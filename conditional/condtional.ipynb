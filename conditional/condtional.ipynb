{
 "cells": [
  {
   "cell_type": "code",
   "execution_count": 87,
   "id": "e4632ab2",
   "metadata": {},
   "outputs": [
    {
     "data": {
      "text/plain": [
       "True"
      ]
     },
     "execution_count": 87,
     "metadata": {},
     "output_type": "execute_result"
    }
   ],
   "source": [
    "from langchain_google_genai import ChatGoogleGenerativeAI\n",
    "from langchain_core.prompts import ChatPromptTemplate\n",
    "from langgraph.graph import StateGraph,START,END\n",
    "from typing import TypedDict,Literal\n",
    "from pydantic import BaseModel, Field\n",
    "from dotenv import load_dotenv\n",
    "load_dotenv()"
   ]
  },
  {
   "cell_type": "code",
   "execution_count": 88,
   "id": "29aea0b4",
   "metadata": {},
   "outputs": [],
   "source": [
    "class SentimentSchema(BaseModel):\n",
    "    sentiment: Literal[\"positive\", \"negative\"] = Field(description=\"the sentiment of the text\")"
   ]
  },
  {
   "cell_type": "code",
   "execution_count": 89,
   "id": "e4b039ba",
   "metadata": {},
   "outputs": [],
   "source": [
    "model = ChatGoogleGenerativeAI(model=\"gemini-2.0-flash\",temperature=0)        "
   ]
  },
  {
   "cell_type": "code",
   "execution_count": 90,
   "id": "f63a5cca",
   "metadata": {},
   "outputs": [],
   "source": [
    "class DiagnosisSchema(BaseModel):\n",
    "    issue_type: Literal[\"UX\", \"Performance\", \"Bug\", \"Support\", \"Other\"] = Field(description='The category of issue mentioned in the review')\n",
    "    tone: Literal[\"angry\", \"frustrated\", \"disappointed\", \"calm\"] = Field(description='The emotional tone expressed by the user')\n",
    "    urgency: Literal[\"low\", \"medium\", \"high\"] = Field(description='How urgent or critical the issue appears to be')"
   ]
  },
  {
   "cell_type": "code",
   "execution_count": 91,
   "id": "d2d5caf8",
   "metadata": {},
   "outputs": [],
   "source": [
    "structured_model = model.with_structured_output(SentimentSchema)\n",
    "structured_model2 = model.with_structured_output(DiagnosisSchema)"
   ]
  },
  {
   "cell_type": "code",
   "execution_count": 92,
   "id": "4740c71f",
   "metadata": {},
   "outputs": [],
   "source": [
    "class Reveiwinputstate(TypedDict):\n",
    "    review: str \n",
    "    sentiment: Literal[\"positive\", \"negative\"]\n",
    "    diagnosis: dict\n",
    "    response: str\n",
    "   \n",
    "    "
   ]
  },
  {
   "cell_type": "code",
   "execution_count": 93,
   "id": "9ea3dfd4",
   "metadata": {},
   "outputs": [],
   "source": [
    "def sentiment_analysis(state:Reveiwinputstate):\n",
    "    prompt = f\"Determine the sentiment of the following review: {state[\"review\"]}. Respond with either 'positive' or 'negative'.\"\n",
    "    response = structured_model.invoke(prompt).sentiment\n",
    "    return {\"sentiment\": response}"
   ]
  },
  {
   "cell_type": "code",
   "execution_count": 94,
   "id": "e25138f9",
   "metadata": {},
   "outputs": [],
   "source": [
    "def positive_response(state: Reveiwinputstate):\n",
    "\n",
    "    prompt = f\"\"\"Write a warm thank-you message in response to this review:\\n\\n\\\"{state['review']}\\\"\\nAlso, kindly ask the user to leave feedback on our website.\"\"\"\n",
    "    \n",
    "    response = model.invoke(prompt).content\n",
    "\n",
    "    return {'response': response}"
   ]
  },
  {
   "cell_type": "code",
   "execution_count": 95,
   "id": "dc88a485",
   "metadata": {},
   "outputs": [],
   "source": [
    "def run_diagnosis(state: Reveiwinputstate):\n",
    "    prompt = f\"\"\"Diagnose this negative review:\\n\\n{state['review']}\\n\"\"Return issue_type, tone, and urgency.\"\"\"\n",
    "    response = structured_model2.invoke(prompt)\n",
    "    return {'diagnosis': response.model_dump()}"
   ]
  },
  {
   "cell_type": "code",
   "execution_count": 96,
   "id": "c86cb345",
   "metadata": {},
   "outputs": [],
   "source": [
    "def negative_response(state: Reveiwinputstate):\n",
    "\n",
    "    diagnosis = state['diagnosis']\n",
    "    prompt = f\"\"\"You are a support assistant.The user had a '{diagnosis['issue_type']}' issue, sounded '{diagnosis['tone']}', and marked urgency as '{diagnosis['urgency']}'.Write an empathetic, helpful resolution message.\"\"\"\n",
    "    response = model.invoke(prompt).content\n",
    "\n",
    "    return {'response': response}"
   ]
  },
  {
   "cell_type": "code",
   "execution_count": 97,
   "id": "2df691da",
   "metadata": {},
   "outputs": [],
   "source": [
    "def check_sentiment(state: Reveiwinputstate) -> Literal[\"positive_response\", \"run_diagnosis\"]:\n",
    "\n",
    "    if state['sentiment'] == 'positive':\n",
    "        return 'positive_response'\n",
    "    else:\n",
    "        return 'run_diagnosis'"
   ]
  },
  {
   "cell_type": "code",
   "execution_count": 98,
   "id": "11ffd13e",
   "metadata": {},
   "outputs": [],
   "source": [
    "graph = StateGraph(Reveiwinputstate)"
   ]
  },
  {
   "cell_type": "code",
   "execution_count": 99,
   "id": "ba85ada4",
   "metadata": {},
   "outputs": [],
   "source": [
    "graph.add_node(\"sentiment_analysis\",sentiment_analysis)\n",
    "graph.add_node(\"positive_response\",positive_response)\n",
    "graph.add_node(\"run_diagnosis\",run_diagnosis)   \n",
    "graph.add_node(\"negative_response\",negative_response)\n",
    "graph.add_node(\"check_sentiment\",check_sentiment)\n",
    "graph.add_edge(START, 'sentiment_analysis')\n",
    "graph.add_conditional_edges('sentiment_analysis', check_sentiment)\n",
    "graph.add_edge('positive_response', END)\n",
    "graph.add_edge('run_diagnosis', 'negative_response')\n",
    "graph.add_edge('negative_response', END)\n",
    "\n",
    "workflow = graph.compile()\n"
   ]
  },
  {
   "cell_type": "code",
   "execution_count": 100,
   "id": "77ca24a1",
   "metadata": {},
   "outputs": [
    {
     "data": {
      "text/plain": [
       "{'review': \"I've been trying to log in for over an hour now, and the app keeps freezing on the authentication screen. I even tried reinstalling it, but no luck. This kind of bug is unacceptable, especially when it affects basic functionality.\",\n",
       " 'sentiment': 'negative',\n",
       " 'diagnosis': {'issue_type': 'Bug', 'tone': 'frustrated', 'urgency': 'high'},\n",
       " 'response': \"Okay, I understand you're experiencing a bug and are understandably frustrated. I see that you've marked this as high urgency, and I want to assure you that I'm taking this seriously and will do everything I can to help resolve this for you as quickly as possible.\\n\\nFirst, I want to apologize for the inconvenience this is causing. Bugs can be incredibly disruptive, and I know how frustrating it is when something isn't working as expected.\\n\\nTo help me understand the issue better and find the best solution, could you please provide me with a little more information? Specifically:\\n\\n*   **What exactly is the bug you're experiencing?** (Be as detailed as possible. Include the steps you took leading up to the bug, what you expected to happen, and what actually happened.)\\n*   **What platform are you using?** (e.g., Windows, macOS, iOS, Android, web browser - and the specific version if possible)\\n*   **Can you provide any screenshots or screen recordings of the bug?** (Visuals are incredibly helpful!)\\n*   **Have you tried any troubleshooting steps already?** (e.g., restarting the application, clearing cache, etc.)\\n\\nIn the meantime, while I await that information, here are a few general troubleshooting steps you could try that might resolve the issue:\\n\\n*   **Restart the application/program/website.** (Sometimes a simple restart can fix temporary glitches.)\\n*   **Check for updates.** (Make sure you're running the latest version of the software.)\\n*   **Clear your cache and cookies (if applicable).** (This can resolve issues caused by corrupted data.)\\n\\nI will be actively monitoring this issue and will respond as soon as I have more information or a potential solution. I'll also keep you updated on the progress of my investigation.\\n\\nThank you for your patience and understanding. I'm committed to getting this resolved for you.\"}"
      ]
     },
     "execution_count": 100,
     "metadata": {},
     "output_type": "execute_result"
    }
   ],
   "source": [
    "initial_state={\n",
    "    'review': \"I've been trying to log in for over an hour now, and the app keeps freezing on the authentication screen. I even tried reinstalling it, but no luck. This kind of bug is unacceptable, especially when it affects basic functionality.\"\n",
    "}\n",
    "workflow.invoke(initial_state)"
   ]
  }
 ],
 "metadata": {
  "kernelspec": {
   "display_name": "env",
   "language": "python",
   "name": "python3"
  },
  "language_info": {
   "codemirror_mode": {
    "name": "ipython",
    "version": 3
   },
   "file_extension": ".py",
   "mimetype": "text/x-python",
   "name": "python",
   "nbconvert_exporter": "python",
   "pygments_lexer": "ipython3",
   "version": "3.13.0"
  }
 },
 "nbformat": 4,
 "nbformat_minor": 5
}
