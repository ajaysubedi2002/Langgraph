{
 "cells": [
  {
   "cell_type": "code",
   "execution_count": 169,
   "id": "8af6ed4b",
   "metadata": {},
   "outputs": [],
   "source": [
    "from langgraph.graph import StateGraph,START,END\n",
    "from typing import TypedDict,Annotated\n",
    "from pydantic import BaseModel,Field\n",
    "from dotenv import load_dotenv\n",
    "load_dotenv()\n",
    "from langchain_google_genai import ChatGoogleGenerativeAI\n",
    "import operator"
   ]
  },
  {
   "cell_type": "code",
   "execution_count": 170,
   "id": "7e244bc6",
   "metadata": {},
   "outputs": [],
   "source": [
    "model = ChatGoogleGenerativeAI(model=\"gemini-2.0-flash\")  "
   ]
  },
  {
   "cell_type": "code",
   "execution_count": 171,
   "id": "57564c55",
   "metadata": {},
   "outputs": [],
   "source": [
    "class Evaluations_schema(BaseModel):\n",
    "    feedback: str = Field(description='Detailed feedback for the essay')\n",
    "    score: int = Field(description='Score out of 10', ge=0, le=10)"
   ]
  },
  {
   "cell_type": "code",
   "execution_count": 172,
   "id": "e8c4ab11",
   "metadata": {},
   "outputs": [],
   "source": [
    "Structuredmodel = model.with_structured_output(Evaluations_schema)"
   ]
  },
  {
   "cell_type": "code",
   "execution_count": 173,
   "id": "67f8213e",
   "metadata": {},
   "outputs": [],
   "source": [
    "essay =\"\"\"The world today stands at a crossroads where opportunities and challenges exist side by side. In almost every sphere of life—politics, economy, technology, environment, and society—the current situation reflects a complex interplay of progress and crisis. Understanding these conditions helps us not only recognize where humanity stands today but also imagine the path we should take in the future.On a global scale, the economy is one of the most pressing concerns. Many countries are facing high inflation, rising living costs, and widening gaps between the rich and the poor. The aftershocks of the COVID-19 pandemic, coupled with ongoing conflicts such as the war in Ukraine and tensions in other parts of the world, have disrupted global trade and energy supplies. Alongside economic troubles, climate change is creating severe challenges. Unpredictable weather patterns, heat waves, floods, and wildfires are becoming frequent reminders that environmental action cannot be delayed. In contrast, rapid technological development—especially artificial intelligence and digital innovation—has opened new doors for education, health, and communication, though it has also raised ethical and employment concerns.Looking at Nepal, the country mirrors both global and local challenges. Economic uncertainty is visible in rising unemployment, dependence on remittances, and the slow pace of industrial growth. Political instability continues to influence policy-making and weaken trust in governance. On the other hand, Nepal holds immense potential in tourism, hydropower, and agriculture. The increasing use of digital platforms by the younger generation is another sign of positive change. However, issues such as migration of skilled youth, poor infrastructure, and vulnerability to natural disasters remain as obstacles. The current situation in Nepal is thus a mixture of hardship and hope.\n",
    "\n",
    "In a more general sense, the current situations worldwide highlight the contradictions of modern life. While science and technology bring people closer, misinformation and polarization divide societies. While economic growth creates wealth, unequal distribution fuels dissatisfaction. While humans have more knowledge than ever before, the planet suffers from reckless exploitation of resources. These contradictions call for balance—between progress and sustainability, between development and fairness, and between national interest and global responsibility.\n",
    "\n",
    "In conclusion, the present era is both an age of uncertainty and an age of possibility. Globally, we face economic, environmental, and political challenges; nationally, Nepal reflects many of these struggles in its own form; and generally, the world must learn to balance innovation with compassion. The choices made today will shape not only the destiny of countries like Nepal but also the entire human civilization. It is therefore the responsibility of individuals, communities, and leaders alike to turn current challenges into opportunities for a more stable and just future.\"\"\""
   ]
  },
  {
   "cell_type": "code",
   "execution_count": 174,
   "id": "5f53f75b",
   "metadata": {},
   "outputs": [],
   "source": [
    "result = Structuredmodel.invoke(essay)"
   ]
  },
  {
   "cell_type": "code",
   "execution_count": 175,
   "id": "667a8b20",
   "metadata": {},
   "outputs": [
    {
     "data": {
      "text/plain": [
       "'The essay provides a good overview of the global and local challenges and opportunities. It touches upon various aspects such as economy, technology, environment, and society, and relates them to both the global context and the specific situation in Nepal. The essay also highlights the contradictions of modern life and calls for balance. However, the essay could benefit from more specific examples and in-depth analysis of the issues discussed. Also, the conclusion could be strengthened by proposing concrete actions or solutions to address the challenges identified.'"
      ]
     },
     "execution_count": 175,
     "metadata": {},
     "output_type": "execute_result"
    }
   ],
   "source": [
    "result.feedback"
   ]
  },
  {
   "cell_type": "code",
   "execution_count": 176,
   "id": "943e7377",
   "metadata": {},
   "outputs": [
    {
     "data": {
      "text/plain": [
       "7"
      ]
     },
     "execution_count": 176,
     "metadata": {},
     "output_type": "execute_result"
    }
   ],
   "source": [
    "result.score"
   ]
  },
  {
   "cell_type": "code",
   "execution_count": 177,
   "id": "ca160357",
   "metadata": {},
   "outputs": [],
   "source": [
    "class essay_state(TypedDict):\n",
    "    essay: str\n",
    "    language_feedback: str\n",
    "    analysis_feedback: str\n",
    "    clarity_feedback: str\n",
    "    overall_feedback: str\n",
    "    individual_scores: Annotated[list[int], operator.add]\n",
    "    avg_score: float"
   ]
  },
  {
   "cell_type": "code",
   "execution_count": 178,
   "id": "0d98e593",
   "metadata": {},
   "outputs": [],
   "source": [
    "def evaluate_languages(state: essay_state):\n",
    "    essay = state[\"essay\"]\n",
    "    prompt = f\"\"\"Evaluate the language quality of the following essay. Provide detailed feedback including strengths and areas for improvement, such as grammar, vocabulary, sentence structure, and overall readability. Then, assign a score out of 10 based on the quality.Essay:{essay}\"\"\"\n",
    "    output = Structuredmodel.invoke(prompt)\n",
    "    return{\"language_feedback\": output.feedback,\"individual_scores\":[output.score]}"
   ]
  },
  {
   "cell_type": "code",
   "execution_count": 179,
   "id": "96a27e3f",
   "metadata": {},
   "outputs": [],
   "source": [
    "def evaluate_analysis(state: essay_state):\n",
    "    essay = state[\"essay\"]\n",
    "    prompt = f\"\"\"Evaluate the depth of analysis in the following essay. Provide detailed feedback on how well the essay analyzes the topic, including the use of evidence, logical reasoning, and critical thinking. Identify strengths and weaknesses. Then, assign a score out of 10.Essay:{essay}\"\"\"\n",
    "    output = Structuredmodel.invoke(prompt)\n",
    "    return{\"analysis_feedback\":output.feedback,\"individual_scores\":[output.score]}"
   ]
  },
  {
   "cell_type": "code",
   "execution_count": 180,
   "id": "c54ab6e6",
   "metadata": {},
   "outputs": [],
   "source": [
    "def evaluate_thought(state: essay_state):\n",
    "    essay = state[\"essay\"]\n",
    "    prompt = f\"\"\"Evaluate the clarity of thought in the following essay. Provide detailed feedback on the organization of ideas, logical flow, coherence, and how clearly the main arguments are presented. Include strengths and suggestions for improvement. Then, assign a score out of 10.Essay:{essay}\"\"\"\n",
    "    output = Structuredmodel.invoke(prompt)\n",
    "    return{\"clarity_feedback\":output.feedback,\"individual_scores\":[output.score]}"
   ]
  },
  {
   "cell_type": "code",
   "execution_count": 181,
   "id": "03323bb9",
   "metadata": {},
   "outputs": [],
   "source": [
    "\n",
    "def final_evaluation(state: essay_state):\n",
    "    # summary feedback\n",
    "    prompt = f'Based on the following feedbacks create a summarized feedback \\n language feedback - {state[\"language_feedback\"]} \\n depth of analysis feedback - {state[\"analysis_feedback\"]} \\n clarity of thought feedback - {state[\"clarity_feedback\"]}'\n",
    "    overall_feedback = model.invoke(prompt).content\n",
    "\n",
    "    # avg calculate\n",
    "    avg_score = sum(state['individual_scores'])/len(state['individual_scores'])\n",
    "\n",
    "    return {'overall_feedback': overall_feedback, 'avg_score': avg_score}"
   ]
  },
  {
   "cell_type": "code",
   "execution_count": 182,
   "id": "7f4995d0",
   "metadata": {},
   "outputs": [],
   "source": [
    "graph = StateGraph(essay_state)\n",
    "graph.add_node(\"evaluate_languages\",evaluate_languages)\n",
    "graph.add_node(\"evaluate_analysis\",evaluate_analysis)\n",
    "graph.add_node(\"evaluate_thought\",evaluate_thought)\n",
    "graph.add_node(\"final_evaluation\",final_evaluation)\n",
    "\n",
    "\n",
    "graph.add_edge(START, 'evaluate_languages')\n",
    "graph.add_edge(START, 'evaluate_analysis')\n",
    "graph.add_edge(START, 'evaluate_thought')\n",
    "\n",
    "graph.add_edge('evaluate_languages', 'final_evaluation')\n",
    "graph.add_edge('evaluate_analysis', 'final_evaluation')\n",
    "graph.add_edge('evaluate_thought', 'final_evaluation')\n",
    "\n",
    "graph.add_edge('final_evaluation', END)\n",
    "\n",
    "workflow = graph.compile()\n",
    "\n"
   ]
  },
  {
   "cell_type": "code",
   "execution_count": 183,
   "id": "172641da",
   "metadata": {},
   "outputs": [],
   "source": [
    "essay2 = \"\"\"  \n",
    "### Essay on the Current Situation of Nepal\n",
    "\n",
    "Nepal today is passing through a period of transition where challenges and opportunities are deeply interconnected. The country, known for its natural beauty and cultural diversity, is facing social, economic, and political issues that shape the lives of its people in significant ways. At the same time, Nepal also holds great potential for growth if these challenges are addressed with vision and responsibility.\n",
    "\n",
    "Economically, Nepal struggles with unemployment and dependency on foreign remittances. A large number of young people are leaving the country in search of jobs abroad, which has created a gap in the domestic workforce. Although remittances contribute heavily to the national economy, overreliance on them prevents long-term economic stability. Inflation and rising prices of daily goods have further added pressure on ordinary citizens. At the same time, Nepal has untapped potential in tourism, agriculture, and hydropower. If developed properly, these sectors can strengthen the economy and provide opportunities for the youth inside the country.\n",
    "\n",
    "Politically, Nepal continues to experience instability. Frequent changes in government, lack of effective policy implementation, and weak governance have created frustration among the people. Citizens often feel that leaders prioritize personal and party interests over national development. Despite having a democratic system, the gap between promises and delivery has weakened public trust in politics.\n",
    "\n",
    "Socially, Nepal faces issues such as poverty, inequality, and limited access to quality education and healthcare. Rural areas still lack proper infrastructure like roads, schools, and hospitals, which makes development uneven across the country. Natural disasters such as floods and landslides add to the difficulties faced by vulnerable communities. However, there is also progress—an increasing number of youths are using digital technology, entrepreneurship is slowly growing, and awareness of social issues is spreading.\n",
    "\n",
    "In terms of opportunities, Nepal stands at a unique position. Its natural resources, especially rivers, can be a major source of clean hydropower energy not only for domestic use but also for export to neighboring countries. Tourism remains another powerful sector, with Nepal’s mountains, culture, and heritage attracting global attention. Moreover, the energy, creativity, and determination of the younger generation can drive innovation and reform in the coming years.\n",
    "\n",
    "In conclusion, the current situation of Nepal is a blend of struggle and hope. Economic dependence, political instability, and social challenges weigh heavily on the country, yet the opportunities in natural resources, tourism, and youth potential show a bright path forward. The future of Nepal depends on wise leadership, active citizen participation, and the ability to transform challenges into opportunities. If the present issues are addressed with seriousness, Nepal can move toward stability, prosperity, and a stronger global identity.\n",
    "\n",
    "\n",
    "      \"\"\""
   ]
  },
  {
   "cell_type": "code",
   "execution_count": 184,
   "id": "c30c73d0",
   "metadata": {},
   "outputs": [
    {
     "data": {
      "text/plain": [
       "{'essay': 'The world today stands at a crossroads where opportunities and challenges exist side by side. In almost every sphere of life—politics, economy, technology, environment, and society—the current situation reflects a complex interplay of progress and crisis. Understanding these conditions helps us not only recognize where humanity stands today but also imagine the path we should take in the future.On a global scale, the economy is one of the most pressing concerns. Many countries are facing high inflation, rising living costs, and widening gaps between the rich and the poor. The aftershocks of the COVID-19 pandemic, coupled with ongoing conflicts such as the war in Ukraine and tensions in other parts of the world, have disrupted global trade and energy supplies. Alongside economic troubles, climate change is creating severe challenges. Unpredictable weather patterns, heat waves, floods, and wildfires are becoming frequent reminders that environmental action cannot be delayed. In contrast, rapid technological development—especially artificial intelligence and digital innovation—has opened new doors for education, health, and communication, though it has also raised ethical and employment concerns.Looking at Nepal, the country mirrors both global and local challenges. Economic uncertainty is visible in rising unemployment, dependence on remittances, and the slow pace of industrial growth. Political instability continues to influence policy-making and weaken trust in governance. On the other hand, Nepal holds immense potential in tourism, hydropower, and agriculture. The increasing use of digital platforms by the younger generation is another sign of positive change. However, issues such as migration of skilled youth, poor infrastructure, and vulnerability to natural disasters remain as obstacles. The current situation in Nepal is thus a mixture of hardship and hope.\\n\\nIn a more general sense, the current situations worldwide highlight the contradictions of modern life. While science and technology bring people closer, misinformation and polarization divide societies. While economic growth creates wealth, unequal distribution fuels dissatisfaction. While humans have more knowledge than ever before, the planet suffers from reckless exploitation of resources. These contradictions call for balance—between progress and sustainability, between development and fairness, and between national interest and global responsibility.\\n\\nIn conclusion, the present era is both an age of uncertainty and an age of possibility. Globally, we face economic, environmental, and political challenges; nationally, Nepal reflects many of these struggles in its own form; and generally, the world must learn to balance innovation with compassion. The choices made today will shape not only the destiny of countries like Nepal but also the entire human civilization. It is therefore the responsibility of individuals, communities, and leaders alike to turn current challenges into opportunities for a more stable and just future.',\n",
       " 'language_feedback': 'Strengths:\\n\\n*   Clear and concise language: The essay uses straightforward language, making it easy to understand.\\n*   Well-structured: The essay follows a logical structure with a clear introduction, body paragraphs, and conclusion.\\n*   Relevant examples: The essay provides relevant examples to support its points, such as mentioning the war in Ukraine and climate change impacts.\\n*   Balanced perspective: The essay acknowledges both the challenges and opportunities present in the world today.\\n\\nAreas for Improvement:\\n\\n*   Vocabulary: While the language is clear, the vocabulary could be more varied and sophisticated. Consider using synonyms to avoid repetition of words like \"challenges\" and \"opportunities.\"\\n*   Sentence structure: Some sentences are a bit lengthy and could be broken down for better readability. Varying sentence structure would also enhance the flow.\\n*   Depth of analysis: While the essay touches on various issues, it could benefit from a deeper analysis of the causes and potential solutions. For example, elaborating on the specific policies that could address economic inequality or climate change.\\n*   Specificity: In some instances, the essay could be more specific. For example, instead of just mentioning \"digital innovation,\" provide a concrete example of how it\\'s benefiting education or health.\\n*   Repetitive phrasing: The essay uses phrases like \"the current situation\" multiple times. Try to rephrase these instances for variety.\\n\\n',\n",
       " 'analysis_feedback': \"The essay provides a broad overview of global and national (Nepal) challenges and opportunities. It touches upon various issues like economic uncertainty, climate change, technological development, and political instability. However, the analysis lacks depth. The essay identifies problems but doesn't delve into the root causes or offer specific solutions. The use of evidence is limited to general statements without concrete data or examples. Logical reasoning is present but could be strengthened by exploring the connections between different issues more thoroughly. Critical thinking is evident in the recognition of contradictions and the call for balance, but the essay could benefit from a more nuanced discussion of these complexities.Strengths:Broad overview of relevant issues.Clear and concise writing.Identifies key challenges and opportunities.Weaknesses:Lack of in-depth analysis.Limited use of evidence.General statements without specific examples.Superficial exploration of complex issues.\",\n",
       " 'clarity_feedback': 'The essay presents a clear overview of global and national challenges and opportunities. The organization of ideas is generally logical, moving from a global perspective to a specific national example (Nepal) and then to a broader philosophical reflection. The coherence is maintained through the consistent theme of contrasting progress and crisis. The main arguments are presented clearly, although some points could benefit from further elaboration.Strengths:\\n\\n*   Clear introduction and conclusion that frame the essay effectively.\\n*   Logical flow from global issues to national issues to general reflections.\\n*   Identifies key challenges and opportunities in each context.\\n\\nSuggestions for improvement:\\n\\n*   While the essay touches on many areas, it could benefit from deeper analysis of specific issues. For example, the discussion of technological development could explore the ethical concerns in more detail.\\n*   The connection between global challenges and the situation in Nepal could be strengthened by providing more specific examples of how global events directly impact Nepal.\\n*   The essay could benefit from a stronger thesis statement in the introduction that explicitly outlines the main arguments.\\n*   Consider adding transitional phrases between paragraphs to enhance the flow and coherence.\\n*   The conclusion could be more impactful by offering concrete recommendations or a call to action.\\n',\n",
       " 'overall_feedback': 'Here\\'s a summarized feedback consolidating the provided assessments:\\n\\n**Overall, the essay demonstrates a clear understanding of global and national challenges and opportunities, presented in a logical and well-structured manner with clear language.** It effectively introduces and concludes, maintains coherence through a consistent theme, and identifies key issues.\\n\\n**However, the essay needs significant improvement in depth of analysis and specificity.** The analysis remains superficial, lacking concrete examples, data, and exploration of root causes or potential solutions. The vocabulary, while clear, needs more variety and sophistication. Sentence structure needs diversification for improved readability.\\n\\n**Specific areas for improvement include:**\\n\\n*   **Deeper Analysis:** Move beyond broad overviews by delving into the root causes of problems and offering specific, evidence-based solutions. Elaborate on issues, providing a more nuanced discussion of complexities.\\n*   **Concrete Examples & Specificity:** Replace general statements with specific examples and data. Instead of mentioning broad concepts like \"digital innovation,\" provide concrete instances of its impact. Provide specific examples of how global events directly impact Nepal.\\n*   **Vocabulary & Sentence Structure:** Vary vocabulary to avoid repetition, particularly with words like \"challenges\" and \"opportunities.\" Break down lengthy sentences and diversify sentence structure for better flow.\\n*   **Stronger Connections & Transitions:** Strengthen the connection between global challenges and the situation in Nepal with specific examples. Use transitional phrases to enhance flow and coherence between paragraphs.\\n*   **Impactful Conclusion:** Strengthen the conclusion by offering concrete recommendations or a call to action.\\n*   **Thesis Statement:** Strengthen the thesis statement in the introduction to explicitly outline the main arguments.',\n",
       " 'individual_scores': [6, 7, 7],\n",
       " 'avg_score': 6.666666666666667}"
      ]
     },
     "execution_count": 184,
     "metadata": {},
     "output_type": "execute_result"
    }
   ],
   "source": [
    "initial_state = {\n",
    "    'essay': essay\n",
    "}\n",
    "\n",
    "workflow.invoke(initial_state)"
   ]
  }
 ],
 "metadata": {
  "kernelspec": {
   "display_name": "env",
   "language": "python",
   "name": "python3"
  },
  "language_info": {
   "codemirror_mode": {
    "name": "ipython",
    "version": 3
   },
   "file_extension": ".py",
   "mimetype": "text/x-python",
   "name": "python",
   "nbconvert_exporter": "python",
   "pygments_lexer": "ipython3",
   "version": "3.13.0"
  }
 },
 "nbformat": 4,
 "nbformat_minor": 5
}
