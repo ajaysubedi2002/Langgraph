{
 "cells": [
  {
   "cell_type": "code",
   "execution_count": 149,
   "id": "8af6ed4b",
   "metadata": {},
   "outputs": [],
   "source": [
    "from langgraph.graph import StateGraph,START,END\n",
    "from typing import TypedDict,Annotated\n",
    "from pydantic import BaseModel,Field\n",
    "from dotenv import load_dotenv\n",
    "load_dotenv()\n",
    "from langchain_google_genai import ChatGoogleGenerativeAI\n",
    "import operator"
   ]
  },
  {
   "cell_type": "code",
   "execution_count": 150,
   "id": "7e244bc6",
   "metadata": {},
   "outputs": [],
   "source": [
    "model = ChatGoogleGenerativeAI(model=\"gemini-2.0-flash\")  "
   ]
  },
  {
   "cell_type": "code",
   "execution_count": null,
   "id": "57564c55",
   "metadata": {},
   "outputs": [],
   "source": [
    "class Evaluations_schema(BaseModel):\n",
    "    feedback: str = Field(description='Detailed feedback for the essay')\n",
    "    score: int = Field(description='Score out of 10', ge=0, le=10)"
   ]
  },
  {
   "cell_type": "code",
   "execution_count": 152,
   "id": "e8c4ab11",
   "metadata": {},
   "outputs": [],
   "source": [
    "Structuredmodel = model.with_structured_output(Evaluations_schema)"
   ]
  },
  {
   "cell_type": "code",
   "execution_count": null,
   "id": "67f8213e",
   "metadata": {},
   "outputs": [],
   "source": [
    "essay =\"\"\"The world today stands at a crossroads where opportunities and challenges exist side by side. In almost every sphere of life—politics, economy, technology, environment, and society—the current situation reflects a complex interplay of progress and crisis. Understanding these conditions helps us not only recognize where humanity stands today but also imagine the path we should take in the future.On a global scale, the economy is one of the most pressing concerns. Many countries are facing high inflation, rising living costs, and widening gaps between the rich and the poor. The aftershocks of the COVID-19 pandemic, coupled with ongoing conflicts such as the war in Ukraine and tensions in other parts of the world, have disrupted global trade and energy supplies. Alongside economic troubles, climate change is creating severe challenges. Unpredictable weather patterns, heat waves, floods, and wildfires are becoming frequent reminders that environmental action cannot be delayed. In contrast, rapid technological development—especially artificial intelligence and digital innovation—has opened new doors for education, health, and communication, though it has also raised ethical and employment concerns.Looking at Nepal, the country mirrors both global and local challenges. Economic uncertainty is visible in rising unemployment, dependence on remittances, and the slow pace of industrial growth. Political instability continues to influence policy-making and weaken trust in governance. On the other hand, Nepal holds immense potential in tourism, hydropower, and agriculture. The increasing use of digital platforms by the younger generation is another sign of positive change. However, issues such as migration of skilled youth, poor infrastructure, and vulnerability to natural disasters remain as obstacles. The current situation in Nepal is thus a mixture of hardship and hope.\n",
    "\n",
    "In a more general sense, the current situations worldwide highlight the contradictions of modern life. While science and technology bring people closer, misinformation and polarization divide societies. While economic growth creates wealth, unequal distribution fuels dissatisfaction. While humans have more knowledge than ever before, the planet suffers from reckless exploitation of resources. These contradictions call for balance—between progress and sustainability, between development and fairness, and between national interest and global responsibility.\n",
    "\n",
    "In conclusion, the present era is both an age of uncertainty and an age of possibility. Globally, we face economic, environmental, and political challenges; nationally, Nepal reflects many of these struggles in its own form; and generally, the world must learn to balance innovation with compassion. The choices made today will shape not only the destiny of countries like Nepal but also the entire human civilization. It is therefore the responsibility of individuals, communities, and leaders alike to turn current challenges into opportunities for a more stable and just future.\"\"\""
   ]
  },
  {
   "cell_type": "code",
   "execution_count": 154,
   "id": "5f53f75b",
   "metadata": {},
   "outputs": [],
   "source": [
    "result = Structuredmodel.invoke(essay)"
   ]
  },
  {
   "cell_type": "code",
   "execution_count": 155,
   "id": "667a8b20",
   "metadata": {},
   "outputs": [
    {
     "data": {
      "text/plain": [
       "'This is a well-written essay that effectively summarizes the current global and local challenges and opportunities. The introduction clearly sets the stage, and the essay maintains a consistent focus on the interplay between progress and crisis. The use of examples, both global and specific to Nepal, strengthens the arguments. The conclusion is strong and emphasizes the importance of responsible decision-making. However, the essay could benefit from more in-depth analysis and specific recommendations for addressing the challenges identified.'"
      ]
     },
     "execution_count": 155,
     "metadata": {},
     "output_type": "execute_result"
    }
   ],
   "source": [
    "result.feedback"
   ]
  },
  {
   "cell_type": "code",
   "execution_count": 156,
   "id": "943e7377",
   "metadata": {},
   "outputs": [
    {
     "data": {
      "text/plain": [
       "7"
      ]
     },
     "execution_count": 156,
     "metadata": {},
     "output_type": "execute_result"
    }
   ],
   "source": [
    "result.score"
   ]
  },
  {
   "cell_type": "code",
   "execution_count": 157,
   "id": "ca160357",
   "metadata": {},
   "outputs": [],
   "source": [
    "class essay_state(TypedDict):\n",
    "    essay: str\n",
    "    language_feedback: str\n",
    "    analysis_feedback: str\n",
    "    clarity_feedback: str\n",
    "    overall_feedback: str\n",
    "    individual_scores: Annotated[list[int], operator.add]\n",
    "    avg_score: float"
   ]
  },
  {
   "cell_type": "code",
   "execution_count": null,
   "id": "0d98e593",
   "metadata": {},
   "outputs": [],
   "source": [
    "def evaluate_languages(state: essay_state):\n",
    "    essay = state[\"essay\"]\n",
    "    prompt = f\"\"\"Evaluate the language quality of the following essay. Provide detailed feedback including strengths and areas for improvement, such as grammar, vocabulary, sentence structure, and overall readability. Then, assign a score out of 10 based on the quality.\n",
    "\n",
    "Essay:\n",
    "{essay}\"\"\"\n",
    "    output = Structuredmodel.invoke(prompt)\n",
    "    return{\"language_feedback\": output.feedback,\"individual_scores\":[output.score]}"
   ]
  },
  {
   "cell_type": "code",
   "execution_count": null,
   "id": "96a27e3f",
   "metadata": {},
   "outputs": [],
   "source": [
    "def evaluate_analysis(state: essay_state):\n",
    "    essay = state[\"essay\"]\n",
    "    prompt = f\"\"\"Evaluate the depth of analysis in the following essay. Provide detailed feedback on how well the essay analyzes the topic, including the use of evidence, logical reasoning, and critical thinking. Identify strengths and weaknesses. Then, assign a score out of 10.\n",
    "\n",
    "Essay:\n",
    "{essay}\"\"\"\n",
    "    output = Structuredmodel.invoke(prompt)\n",
    "    return{\"analysis_feedback\":output.feedback,\"individual_scores\":[output.score]}"
   ]
  },
  {
   "cell_type": "code",
   "execution_count": null,
   "id": "c54ab6e6",
   "metadata": {},
   "outputs": [],
   "source": [
    "def evaluate_thought(state: essay_state):\n",
    "    essay = state[\"essay\"]\n",
    "    prompt = f\"\"\"Evaluate the clarity of thought in the following essay. Provide detailed feedback on the organization of ideas, logical flow, coherence, and how clearly the main arguments are presented. Include strengths and suggestions for improvement. Then, assign a score out of 10.\n",
    "\n",
    "Essay:\n",
    "{essay}\"\"\"\n",
    "    output = Structuredmodel.invoke(prompt)\n",
    "    return{\"clarity_feedback\":output.feedback,\"individual_scores\":[output.score]}"
   ]
  },
  {
   "cell_type": "code",
   "execution_count": 161,
   "id": "03323bb9",
   "metadata": {},
   "outputs": [],
   "source": [
    "\n",
    "def final_evaluation(state: essay_state):\n",
    "\n",
    "    # summary feedback\n",
    "    prompt = f'Based on the following feedbacks create a summarized feedback \\n language feedback - {state[\"language_feedback\"]} \\n depth of analysis feedback - {state[\"analysis_feedback\"]} \\n clarity of thought feedback - {state[\"clarity_feedback\"]}'\n",
    "    overall_feedback = model.invoke(prompt).content\n",
    "\n",
    "    # avg calculate\n",
    "    avg_score = sum(state['individual_scores'])/len(state['individual_scores'])\n",
    "\n",
    "    return {'overall_feedback': overall_feedback, 'avg_score': avg_score}"
   ]
  },
  {
   "cell_type": "code",
   "execution_count": 162,
   "id": "7f4995d0",
   "metadata": {},
   "outputs": [],
   "source": [
    "graph = StateGraph(essay_state)\n",
    "graph.add_node(\"evaluate_languages\",evaluate_languages)\n",
    "graph.add_node(\"evaluate_analysis\",evaluate_analysis)\n",
    "graph.add_node(\"evaluate_thought\",evaluate_thought)\n",
    "graph.add_node(\"final_evaluation\",final_evaluation)\n",
    "\n",
    "\n",
    "graph.add_edge(START, 'evaluate_languages')\n",
    "graph.add_edge(START, 'evaluate_analysis')\n",
    "graph.add_edge(START, 'evaluate_thought')\n",
    "\n",
    "graph.add_edge('evaluate_languages', 'final_evaluation')\n",
    "graph.add_edge('evaluate_analysis', 'final_evaluation')\n",
    "graph.add_edge('evaluate_thought', 'final_evaluation')\n",
    "\n",
    "graph.add_edge('final_evaluation', END)\n",
    "\n",
    "workflow = graph.compile()\n",
    "\n"
   ]
  },
  {
   "cell_type": "code",
   "execution_count": 163,
   "id": "172641da",
   "metadata": {},
   "outputs": [],
   "source": [
    "essay2 = \"\"\"  \n",
    "### Essay on the Current Situation of Nepal\n",
    "\n",
    "Nepal today is passing through a period of transition where challenges and opportunities are deeply interconnected. The country, known for its natural beauty and cultural diversity, is facing social, economic, and political issues that shape the lives of its people in significant ways. At the same time, Nepal also holds great potential for growth if these challenges are addressed with vision and responsibility.\n",
    "\n",
    "Economically, Nepal struggles with unemployment and dependency on foreign remittances. A large number of young people are leaving the country in search of jobs abroad, which has created a gap in the domestic workforce. Although remittances contribute heavily to the national economy, overreliance on them prevents long-term economic stability. Inflation and rising prices of daily goods have further added pressure on ordinary citizens. At the same time, Nepal has untapped potential in tourism, agriculture, and hydropower. If developed properly, these sectors can strengthen the economy and provide opportunities for the youth inside the country.\n",
    "\n",
    "Politically, Nepal continues to experience instability. Frequent changes in government, lack of effective policy implementation, and weak governance have created frustration among the people. Citizens often feel that leaders prioritize personal and party interests over national development. Despite having a democratic system, the gap between promises and delivery has weakened public trust in politics.\n",
    "\n",
    "Socially, Nepal faces issues such as poverty, inequality, and limited access to quality education and healthcare. Rural areas still lack proper infrastructure like roads, schools, and hospitals, which makes development uneven across the country. Natural disasters such as floods and landslides add to the difficulties faced by vulnerable communities. However, there is also progress—an increasing number of youths are using digital technology, entrepreneurship is slowly growing, and awareness of social issues is spreading.\n",
    "\n",
    "In terms of opportunities, Nepal stands at a unique position. Its natural resources, especially rivers, can be a major source of clean hydropower energy not only for domestic use but also for export to neighboring countries. Tourism remains another powerful sector, with Nepal’s mountains, culture, and heritage attracting global attention. Moreover, the energy, creativity, and determination of the younger generation can drive innovation and reform in the coming years.\n",
    "\n",
    "In conclusion, the current situation of Nepal is a blend of struggle and hope. Economic dependence, political instability, and social challenges weigh heavily on the country, yet the opportunities in natural resources, tourism, and youth potential show a bright path forward. The future of Nepal depends on wise leadership, active citizen participation, and the ability to transform challenges into opportunities. If the present issues are addressed with seriousness, Nepal can move toward stability, prosperity, and a stronger global identity.\n",
    "\n",
    "\n",
    "      \"\"\""
   ]
  },
  {
   "cell_type": "code",
   "execution_count": null,
   "id": "c30c73d0",
   "metadata": {},
   "outputs": [
    {
     "data": {
      "text/plain": [
       "{'essay': 'The world today stands at a crossroads where opportunities and challenges exist side by side. In almost every sphere of life—politics, economy, technology, environment, and society—the current situation reflects a complex interplay of progress and crisis. Understanding these conditions helps us not only recognize where humanity stands today but also imagine the path we should take in the future.On a global scale, the economy is one of the most pressing concerns. Many countries are facing high inflation, rising living costs, and widening gaps between the rich and the poor. The aftershocks of the COVID-19 pandemic, coupled with ongoing conflicts such as the war in Ukraine and tensions in other parts of the world, have disrupted global trade and energy supplies. Alongside economic troubles, climate change is creating severe challenges. Unpredictable weather patterns, heat waves, floods, and wildfires are becoming frequent reminders that environmental action cannot be delayed. In contrast, rapid technological development—especially artificial intelligence and digital innovation—has opened new doors for education, health, and communication, though it has also raised ethical and employment concerns.ooking at Nepal, the country mirrors both global and local challenges. Economic uncertainty is visible in rising unemployment, dependence on remittances, and the slow pace of industrial growth. Political instability continues to influence policy-making and weaken trust in governance. On the other hand, Nepal holds immense potential in tourism, hydropower, and agriculture. The increasing use of digital platforms by the younger generation is another sign of positive change. However, issues such as migration of skilled youth, poor infrastructure, and vulnerability to natural disasters remain as obstacles. The current situation in Nepal is thus a mixture of hardship and hope.\\n\\nIn a more general sense, the current situations worldwide highlight the contradictions of modern life. While science and technology bring people closer, misinformation and polarization divide societies. While economic growth creates wealth, unequal distribution fuels dissatisfaction. While humans have more knowledge than ever before, the planet suffers from reckless exploitation of resources. These contradictions call for balance—between progress and sustainability, between development and fairness, and between national interest and global responsibility.\\n\\nIn conclusion, the present era is both an age of uncertainty and an age of possibility. Globally, we face economic, environmental, and political challenges; nationally, Nepal reflects many of these struggles in its own form; and generally, the world must learn to balance innovation with compassion. The choices made today will shape not only the destiny of countries like Nepal but also the entire human civilization. It is therefore the responsibility of individuals, communities, and leaders alike to turn current challenges into opportunities for a more stable and just future.',\n",
       " 'language_feedback': 'Detailed feedbackfor the essay',\n",
       " 'analysis_feedback': 'Detailed feedback for the essay',\n",
       " 'clarity_feedback': 'Detailed feedback for the essay',\n",
       " 'overall_feedback': 'Okay, here\\'s a summarized feedback structure based on the categories you provided, aiming to consolidate the detailed feedback into a concise overview:\\n\\n**Summarized Feedback:**\\n\\n**Overall Impression:** (Start with a general statement about the essay\\'s strengths and weaknesses)\\n\\n**Key Areas for Improvement:**\\n\\n*   **Language:** (Summarize the language feedback.  Focus on 1-2 key issues and their impact)\\n    *   Example: \"While generally clear, the language occasionally suffers from [specific issue, e.g., awkward phrasing, imprecise vocabulary]. Addressing this will improve the overall flow and impact of your arguments.\"\\n*   **Depth of Analysis:** (Summarize the depth of analysis feedback. Focus on whether the analysis was superficial, insightful, or somewhere in between, and what could have improved it)\\n    *   Example: \"The analysis demonstrates a good understanding of the topic, but could be strengthened by [specific suggestion, e.g., exploring counterarguments, providing more specific examples, delving deeper into the underlying causes/implications].\"\\n*   **Clarity of Thought:** (Summarize the clarity of thought feedback. Focus on the organization of ideas, the logical flow, and the overall coherence of the argument)\\n    *   Example: \"The essay\\'s clarity is generally strong, but the connection between [specific sections/arguments] could be made more explicit. Consider [specific suggestion, e.g., adding transition sentences, restructuring paragraphs, providing a clearer thesis statement].\"\\n\\n**Actionable Steps:** (Optional, but highly valuable.  Offer 1-2 concrete things the writer can do to improve)\\n\\n*   Example: \"To improve, focus on [specific action, e.g., revising sentences for conciseness, researching opposing viewpoints, creating a detailed outline before writing].\"\\n\\n**How this works:**\\n\\n1.  **Review the Detailed Feedback:**  Carefully read all the detailed feedback for each category (Language, Depth of Analysis, Clarity of Thought).\\n2.  **Identify Key Themes:**  Look for recurring issues or patterns in the feedback. What are the most frequent criticisms or suggestions?\\n3.  **Condense and Prioritize:**  Focus on the *most important* 1-2 points from each category.  What will have the biggest impact on the essay if addressed?\\n4.  **Use Specific Language:** Avoid vague statements like \"needs improvement.\" Instead, use specific terms and examples from the original feedback.\\n5.  **Offer Actionable Advice:**  Whenever possible, provide concrete steps the writer can take to improve in each area.\\n\\n**Example using hypothetical detailed feedback:**\\n\\n**Hypothetical Detailed Feedback:**\\n\\n*   **Language:** \"Several sentences are awkwardly phrased and difficult to understand. Vocabulary is sometimes too informal for an academic essay. There are also a few grammatical errors.\"\\n*   **Depth of Analysis:** \"The essay presents a good overview of the topic, but it doesn\\'t delve deeply into the underlying causes. It would be stronger if you considered alternative perspectives and provided more specific examples to support your claims.\"\\n*   **Clarity of Thought:** \"The essay\\'s main argument is somewhat unclear. The connection between the different sections could be stronger. The conclusion feels a bit abrupt.\"\\n\\n**Summarized Feedback (Based on the above):**\\n\\n**Overall Impression:** The essay demonstrates a solid understanding of the topic but needs refinement in language, analysis, and clarity to reach its full potential.\\n\\n**Key Areas for Improvement:**\\n\\n*   **Language:** The language occasionally suffers from awkward phrasing and informality, hindering clarity. Revising for conciseness and using more academic vocabulary will improve the essay\\'s impact.\\n*   **Depth of Analysis:** While providing a good overview, the analysis lacks depth. Exploring alternative perspectives and providing more specific examples would strengthen your arguments.\\n*   **Clarity of Thought:** The essay\\'s main argument could be more clearly articulated. Strengthening the connections between sections and providing a more definitive conclusion will enhance the overall coherence.\\n\\n**Actionable Steps:**\\n\\n*   Revise sentences for clarity and conciseness, paying attention to phrasing and word choice.\\n*   Research and incorporate alternative perspectives to deepen your analysis.\\n\\nThis structure provides a clear, concise, and actionable summary of the detailed feedback, making it easier for the writer to understand and address the key areas for improvement. Remember to tailor the summary to the specific feedback you have received.',\n",
       " 'individual_scores': [0, 0, 0],\n",
       " 'avg_score': 0.0}"
      ]
     },
     "execution_count": 165,
     "metadata": {},
     "output_type": "execute_result"
    }
   ],
   "source": [
    "initial_state = {\n",
    "    'essay': essay\n",
    "}\n",
    "\n",
    "workflow.invoke(initial_state)"
   ]
  }
 ],
 "metadata": {
  "kernelspec": {
   "display_name": "env",
   "language": "python",
   "name": "python3"
  },
  "language_info": {
   "codemirror_mode": {
    "name": "ipython",
    "version": 3
   },
   "file_extension": ".py",
   "mimetype": "text/x-python",
   "name": "python",
   "nbconvert_exporter": "python",
   "pygments_lexer": "ipython3",
   "version": "3.13.0"
  }
 },
 "nbformat": 4,
 "nbformat_minor": 5
}
