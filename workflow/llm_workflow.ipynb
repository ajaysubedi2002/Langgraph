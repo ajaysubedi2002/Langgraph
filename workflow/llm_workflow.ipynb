{
 "cells": [
  {
   "cell_type": "code",
   "execution_count": 23,
   "id": "c5855ee4",
   "metadata": {},
   "outputs": [
    {
     "data": {
      "text/plain": [
       "True"
      ]
     },
     "execution_count": 23,
     "metadata": {},
     "output_type": "execute_result"
    }
   ],
   "source": [
    "from langchain_google_genai import ChatGoogleGenerativeAI\n",
    "from langchain_core.prompts import ChatPromptTemplate\n",
    "from langgraph.graph import StateGraph,START,END\n",
    "from typing import TypedDict\n",
    "from dotenv import load_dotenv\n",
    "load_dotenv()"
   ]
  },
  {
   "cell_type": "code",
   "execution_count": 24,
   "id": "75573a42",
   "metadata": {},
   "outputs": [],
   "source": [
    "llm = ChatGoogleGenerativeAI(model=\"gemini-2.0-flash\")  "
   ]
  },
  {
   "cell_type": "code",
   "execution_count": 25,
   "id": "68716f93",
   "metadata": {},
   "outputs": [],
   "source": [
    "class llmState(TypedDict):\n",
    "    user_input: str\n",
    "    response: str"
   ]
  },
  {
   "cell_type": "code",
   "execution_count": 26,
   "id": "e9d86491",
   "metadata": {},
   "outputs": [],
   "source": [
    "def llm_qa(state: llmState) -> llmState:\n",
    "    \n",
    "    prompt = ChatPromptTemplate.from_messages([\n",
    "        (\"system\", \"You are a helpful assistant that helps people find information.\"),\n",
    "        (\"user\", \"{user_input}\")\n",
    "    ])\n",
    "    response = llm.predict_messages(prompt.format_messages(user_input=state['user_input']))\n",
    "    state['response'] = response.content\n",
    "    return state"
   ]
  },
  {
   "cell_type": "code",
   "execution_count": 32,
   "id": "435f6d84",
   "metadata": {},
   "outputs": [],
   "source": [
    "graph = StateGraph(llmState)\n",
    "\n",
    "# add nodes\n",
    "graph.add_node('llm_qa', llm_qa)\n",
    "\n",
    "# add edges\n",
    "graph.add_edge(START, 'llm_qa')\n",
    "graph.add_edge('llm_qa', END)\n",
    "\n",
    "# compile\n",
    "workflow = graph.compile()"
   ]
  },
  {
   "cell_type": "code",
   "execution_count": 35,
   "id": "550d0c6b",
   "metadata": {},
   "outputs": [
    {
     "name": "stdout",
     "output_type": "stream",
     "text": [
      "The distance between the Earth and the Moon isn't constant, as the Moon's orbit is an ellipse. However, here's a general idea:\n",
      "\n",
      "*   **Average distance:** 238,900 miles (384,400 kilometers)\n",
      "*   **Perigee (closest point):** Around 225,623 miles (363,104 kilometers)\n",
      "*   **Apogee (farthest point):** Around 252,088 miles (405,696 kilometers)\n"
     ]
    }
   ],
   "source": [
    "# execute\n",
    "\n",
    "intial_state = {'user_input': 'How far is moon from the earth?'}\n",
    "\n",
    "final_state = workflow.invoke(intial_state)\n",
    "\n",
    "print(final_state['response'])"
   ]
  }
 ],
 "metadata": {
  "kernelspec": {
   "display_name": "env",
   "language": "python",
   "name": "python3"
  },
  "language_info": {
   "codemirror_mode": {
    "name": "ipython",
    "version": 3
   },
   "file_extension": ".py",
   "mimetype": "text/x-python",
   "name": "python",
   "nbconvert_exporter": "python",
   "pygments_lexer": "ipython3",
   "version": "3.13.0"
  }
 },
 "nbformat": 4,
 "nbformat_minor": 5
}
