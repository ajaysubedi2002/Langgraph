{
 "cells": [
  {
   "cell_type": "code",
   "execution_count": 1,
   "id": "b583a5be",
   "metadata": {},
   "outputs": [
    {
     "data": {
      "text/plain": [
       "True"
      ]
     },
     "execution_count": 1,
     "metadata": {},
     "output_type": "execute_result"
    }
   ],
   "source": [
    "from langchain_google_genai import ChatGoogleGenerativeAI\n",
    "from langchain_core.prompts import ChatPromptTemplate\n",
    "from langgraph.graph import StateGraph,START,END\n",
    "from typing import TypedDict\n",
    "from dotenv import load_dotenv\n",
    "load_dotenv()"
   ]
  },
  {
   "cell_type": "code",
   "execution_count": 2,
   "id": "716cc5aa",
   "metadata": {},
   "outputs": [],
   "source": [
    "llm = ChatGoogleGenerativeAI(model=\"gemini-2.0-flash\")  "
   ]
  },
  {
   "cell_type": "code",
   "execution_count": 8,
   "id": "3e5f26ee",
   "metadata": {},
   "outputs": [],
   "source": [
    "class BlogState(TypedDict):\n",
    "    title: str\n",
    "    outline: str\n",
    "    content:str"
   ]
  },
  {
   "cell_type": "code",
   "execution_count": 11,
   "id": "89e9e41d",
   "metadata": {},
   "outputs": [],
   "source": [
    "def create_outline(state: BlogState) -> BlogState:\n",
    "    title = state['title']\n",
    "    prompt = f'generate the outline for a  blog on the topic -> {title}'\n",
    "    outline = llm.invoke(prompt).content\n",
    "    state['outline']= outline\n",
    "    return state\n",
    "\n",
    "  "
   ]
  },
  {
   "cell_type": "code",
   "execution_count": 14,
   "id": "71c72ad1",
   "metadata": {},
   "outputs": [],
   "source": [
    "def create_blog(state: BlogState) -> BlogState:\n",
    "\n",
    "    title = state['title']\n",
    "    outline = state['outline']\n",
    "\n",
    "    prompt = f'Write a detailed blog on the title - {title} using the follwing outline \\n {outline}'\n",
    "\n",
    "    content = llm.invoke(prompt).content\n",
    "\n",
    "    state['content'] = content\n",
    "\n",
    "    return state\n",
    "\n",
    "  "
   ]
  },
  {
   "cell_type": "code",
   "execution_count": 15,
   "id": "06a92d45",
   "metadata": {},
   "outputs": [],
   "source": [
    "graph = StateGraph(BlogState)\n",
    "\n",
    "# nodes\n",
    "graph.add_node('create_outline', create_outline)\n",
    "graph.add_node('create_blog', create_blog)\n",
    "\n",
    "# edges\n",
    "graph.add_edge(START, 'create_outline')\n",
    "graph.add_edge('create_outline', 'create_blog')\n",
    "graph.add_edge('create_blog', END)\n",
    "\n",
    "workflow = graph.compile()\n"
   ]
  },
  {
   "cell_type": "code",
   "execution_count": 18,
   "id": "7a8a4b5c",
   "metadata": {},
   "outputs": [
    {
     "name": "stdout",
     "output_type": "stream",
     "text": [
      "{'title': 'Rise of gen  in poltics in nepal', 'outline': \"## Blog Outline: Rise of Gen Z in Politics in Nepal\\n\\n**I. Introduction**\\n\\n*   **Hook:** Start with a compelling statistic or anecdote about Gen Z's growing political engagement in Nepal (e.g., voter turnout, social media activism, participation in protests).\\n*   **Context:** Briefly introduce Gen Z (born roughly 1997-2012) and their defining characteristics.\\n*   **Thesis Statement:**  State the main argument of the blog -  Gen Z's increasing involvement in Nepali politics is reshaping the political landscape, driven by [mention key factors, e.g., dissatisfaction with traditional politics, access to information, social media influence], and presenting both opportunities and challenges for the future of Nepali democracy.\\n*   **Roadmap:** Briefly outline the topics to be covered in the blog.\\n\\n**II.  Understanding Gen Z in Nepal**\\n\\n*   **Demographics and Socioeconomic Background:**\\n    *   Brief overview of Gen Z's population size in Nepal.\\n    *   Discuss their access to education, technology, and the internet compared to previous generations.\\n    *   Address the influence of socioeconomic factors on their political views and engagement.\\n*   **Values and Beliefs:**\\n    *   Highlight key values that define Gen Z in Nepal (e.g., social justice, environmental awareness, inclusivity, transparency, accountability).\\n    *   Contrast their values with those of older generations in positions of power.\\n*   **Communication and Information Consumption:**\\n    *   Emphasize the role of social media and online platforms in shaping their political views and mobilizing action.\\n    *   Discuss their reliance on digital news sources and their ability to critically analyze information.\\n\\n**III.  Factors Driving Gen Z's Political Engagement**\\n\\n*   **Disillusionment with Traditional Politics:**\\n    *   Discuss widespread dissatisfaction with corruption, ineffective governance, and lack of opportunities.\\n    *   Highlight Gen Z's perception of traditional political parties as outdated and unresponsive to their needs.\\n*   **Access to Information and Technology:**\\n    *   Explain how the internet and social media have empowered Gen Z to access information, organize movements, and voice their opinions.\\n    *   Mention the impact of citizen journalism and online activism.\\n*   **Influence of Global Movements:**\\n    *   Discuss how global movements like climate change activism, Black Lives Matter, and #MeToo have resonated with Gen Z in Nepal.\\n    *   Explain how these movements have inspired them to take action on local issues.\\n*   **Economic and Social Challenges:**\\n    *   Highlight issues like unemployment, lack of quality education, and social inequality that motivate Gen Z to seek political change.\\n    *   Discuss their desire for a more equitable and prosperous future.\\n\\n**IV.  Forms of Gen Z Political Engagement in Nepal**\\n\\n*   **Online Activism and Social Media Campaigns:**\\n    *   Provide examples of successful online campaigns led by Gen Z on issues like environmental protection, social justice, and political reform.\\n    *   Discuss the use of hashtags, memes, and viral content to raise awareness and mobilize support.\\n*   **Participation in Protests and Demonstrations:**\\n    *   Highlight Gen Z's involvement in recent protests and demonstrations against corruption, government policies, and social injustices.\\n    *   Analyze their role in organizing and mobilizing participants.\\n*   **Emergence of Youth-Led Political Organizations and Initiatives:**\\n    *   Showcase examples of youth-led political groups and organizations that are advocating for change and challenging the status quo.\\n    *   Discuss their platforms and strategies for engaging with the political system.\\n*   **Increasing Voter Turnout and Political Awareness:**\\n    *   Analyze data on Gen Z voter turnout in recent elections.\\n    *   Discuss efforts to increase political awareness and encourage youth participation in the electoral process.\\n\\n**V.  Impact and Challenges of Gen Z's Political Involvement**\\n\\n*   **Potential for Political Reform and Innovation:**\\n    *   Discuss the potential for Gen Z to bring fresh perspectives, innovative solutions, and greater accountability to Nepali politics.\\n    *   Highlight their ability to challenge traditional power structures and promote progressive policies.\\n*   **Challenges and Obstacles:**\\n    *   Address the challenges Gen Z faces, such as limited access to resources, lack of political experience, and resistance from established political actors.\\n    *   Discuss the risk of co-option by traditional parties and the need for sustained engagement.\\n*   **Impact on Political Discourse and Policy Debates:**\\n    *   Analyze how Gen Z's involvement is shaping political discourse and influencing policy debates on key issues.\\n    *   Discuss their ability to bring marginalized voices and perspectives to the forefront.\\n\\n**VI.  The Future of Gen Z in Nepali Politics**\\n\\n*   **Potential for Long-Term Impact:**\\n    *   Discuss the potential for Gen Z to become a powerful force for political change in Nepal in the long term.\\n    *   Emphasize the importance of nurturing their political engagement and providing them with opportunities to lead.\\n*   **Recommendations for Supporting Gen Z's Political Participation:**\\n    *   Suggest ways to empower Gen Z to participate effectively in politics, such as providing access to education, resources, and mentorship.\\n    *   Advocate for policies that promote youth participation and representation in government.\\n*   **Concluding Remarks:**\\n    *   Reiterate the importance of Gen Z's role in shaping the future of Nepali democracy.\\n    *   Offer a call to action for stakeholders to support their political engagement and create a more inclusive and responsive political system.\\n\\n**VII.  References**\\n\\n*   List all sources used in the blog, including academic articles, news reports, and online resources.  Use a consistent citation style (e.g., APA, MLA).\\n\\n**Note:** This outline provides a comprehensive framework.  You can adjust it based on the specific focus and length of your blog post. Remember to use concrete examples, data, and compelling narratives to support your arguments and engage your audience.\", 'content': '## Rise of Gen Z in Politics in Nepal: A Digital Revolution\\n\\n**I. Introduction**\\n\\n*   **Hook:** In the 2022 Nepali general election, a palpable energy surged through polling booths. Not just the usual seasoned voters, but a wave of young faces, many casting their vote for the very first time. Voter turnout among 18-25 year olds saw a significant jump, exceeding previous elections by a noticeable margin, signaling a shift in Nepal\\'s political landscape.\\n*   **Context:** Gen Z, born between roughly 1997 and 2012, are digital natives. They’ve grown up immersed in technology, connected globally, and acutely aware of the world\\'s challenges. In Nepal, this generation is coming of age in a period of political transition and socioeconomic uncertainty.\\n*   **Thesis Statement:** Gen Z\\'s increasing involvement in Nepali politics is reshaping the political landscape, driven by profound dissatisfaction with traditional political systems, unprecedented access to information and global perspectives through technology, and a fervent desire for a more just and sustainable future. This surge in engagement presents both unprecedented opportunities and significant challenges for the evolution of Nepali democracy.\\n*   **Roadmap:** This blog will delve into the characteristics of Gen Z in Nepal, explore the factors driving their political engagement, examine the forms this engagement takes, analyze its potential impact and the challenges it faces, and ultimately, consider the future role of Gen Z in Nepali politics.\\n\\n**II. Understanding Gen Z in Nepal**\\n\\n*   **Demographics and Socioeconomic Background:**\\n    *   Gen Z constitutes a significant portion of Nepal\\'s population, representing a substantial voting bloc and a potential force for change. Precise figures fluctuate, but estimates place them at around 25-30% of the total population.\\n    *   Compared to previous generations, Gen Z in Nepal enjoys greater access to education, although disparities persist, especially in rural areas.  Mobile technology and internet penetration are also significantly higher, even in remote regions, bridging the information gap.\\n    *   Socioeconomic factors profoundly influence their political views. While some come from privileged backgrounds, many face challenges related to unemployment, limited opportunities, and social inequality. This disparity shapes their political priorities and engagement.\\n*   **Values and Beliefs:**\\n    *   Key values defining Gen Z in Nepal include a strong emphasis on social justice, environmental awareness, inclusivity, transparency, and accountability. They are deeply concerned about issues like climate change, gender equality, and corruption.\\n    *   Their values often clash with those of older generations in positions of power, who are often perceived as resistant to change and entrenched in traditional, often corrupt, practices. Gen Z prioritizes ethical leadership, sustainable development, and inclusive governance – values not always reflected in current political structures.\\n*   **Communication and Information Consumption:**\\n    *   Social media platforms like Facebook, Twitter, Instagram, TikTok, and YouTube are central to Gen Z\\'s lives. These platforms are not just for entertainment; they are primary sources of news, information, and political discourse.\\n    *   They rely heavily on digital news sources, often favoring alternative media outlets and citizen journalism over traditional media, which they often view as biased or controlled by vested interests. They are adept at critically analyzing information, identifying misinformation, and fact-checking claims, although they are also susceptible to echo chambers and online manipulation.\\n\\n**III. Factors Driving Gen Z\\'s Political Engagement**\\n\\n*   **Disillusionment with Traditional Politics:**\\n    *   Widespread corruption, ineffective governance, and a lack of opportunities are major sources of disillusionment for Gen Z. They witness firsthand the consequences of political instability, poor infrastructure, and limited economic prospects.\\n    *   They perceive traditional political parties as outdated, unresponsive to their needs, and primarily focused on maintaining power rather than serving the public. This fuels their desire for alternative political approaches and leaders.\\n*   **Access to Information and Technology:**\\n    *   The internet and social media have empowered Gen Z to access diverse perspectives, organize movements, and voice their opinions without relying on traditional gatekeepers. They can bypass state-controlled media and connect directly with like-minded individuals around the world.\\n    *   Citizen journalism, enabled by smartphones and social media, allows them to document and share real-time information about events, hold authorities accountable, and amplify marginalized voices.\\n*   **Influence of Global Movements:**\\n    *   Global movements like climate change activism (Greta Thunberg\\'s impact), Black Lives Matter, and #MeToo have resonated deeply with Gen Z in Nepal. They see these movements as examples of how collective action can bring about meaningful change.\\n    *   These movements inspire them to take action on local issues, applying similar strategies and tactics to address challenges like environmental degradation, social inequality, and gender-based violence in Nepal.\\n*   **Economic and Social Challenges:**\\n    *   High unemployment rates, lack of access to quality education, and pervasive social inequality are major motivators for Gen Z\\'s political engagement. They recognize that these issues are systemic and require political solutions.\\n    *   They aspire to a more equitable and prosperous future, where everyone has access to opportunities and can live with dignity. This fuels their desire to challenge the status quo and advocate for policies that promote social and economic justice.\\n\\n**IV. Forms of Gen Z Political Engagement in Nepal**\\n\\n*   **Online Activism and Social Media Campaigns:**\\n    *   Successful online campaigns led by Gen Z in Nepal include those focused on environmental protection (e.g., campaigns against deforestation and pollution), social justice (e.g., campaigns against caste discrimination and gender inequality), and political reform (e.g., campaigns for transparency and accountability in government).\\n    *   They effectively use hashtags, memes, and viral content to raise awareness, mobilize support, and pressure decision-makers. For example, during periods of political instability, hashtags calling for good governance and accountability often trend nationally.\\n*   **Participation in Protests and Demonstrations:**\\n    *   Gen Z has been actively involved in recent protests and demonstrations against corruption, government policies (e.g., unpopular tax increases), and social injustices (e.g., protests against violence against women).\\n    *   They often play a key role in organizing and mobilizing participants, leveraging social media to spread information, coordinate logistics, and amplify the voices of protesters.\\n*   **Emergence of Youth-Led Political Organizations and Initiatives:**\\n    *   Several youth-led political groups and organizations have emerged in Nepal, advocating for change and challenging the status quo. These groups often focus on issues like environmental sustainability, social justice, and good governance.\\n    *   Their platforms typically emphasize participatory democracy, transparency, and accountability. They often use social media and grassroots organizing to engage with the public and advocate for their policy priorities.\\n*   **Increasing Voter Turnout and Political Awareness:**\\n    *   Data from recent elections shows a noticeable increase in Gen Z voter turnout, indicating a growing interest in participating in the electoral process.\\n    *   Various initiatives are underway to increase political awareness and encourage youth participation, including voter registration drives, political education programs, and online campaigns promoting civic engagement.\\n\\n**V. Impact and Challenges of Gen Z\\'s Political Involvement**\\n\\n*   **Potential for Political Reform and Innovation:**\\n    *   Gen Z has the potential to bring fresh perspectives, innovative solutions, and greater accountability to Nepali politics. They are more likely to challenge traditional power structures and promote progressive policies.\\n    *   Their digital fluency and global awareness can help them develop more effective and transparent governance systems.\\n*   **Challenges and Obstacles:**\\n    *   Gen Z faces challenges such as limited access to resources, lack of political experience, and resistance from established political actors who may feel threatened by their growing influence.\\n    *   There is also a risk of co-option by traditional parties, where Gen Z members are used for their appeal but not given genuine power or influence. Sustained engagement and critical thinking are crucial to avoid this.\\n*   **Impact on Political Discourse and Policy Debates:**\\n    *   Gen Z\\'s involvement is already shaping political discourse and influencing policy debates on key issues. They are bringing marginalized voices and perspectives to the forefront, challenging traditional narratives, and demanding greater accountability from elected officials.\\n    *   For example, their advocacy for environmental protection has led to increased scrutiny of development projects and a greater emphasis on sustainable practices.\\n\\n**VI. The Future of Gen Z in Nepali Politics**\\n\\n*   **Potential for Long-Term Impact:**\\n    *   Gen Z has the potential to become a powerful force for political change in Nepal in the long term. As they gain experience and build networks, they can play a leading role in shaping the future of Nepali democracy.\\n    *   Nurturing their political engagement and providing them with opportunities to lead is crucial for realizing this potential.\\n*   **Recommendations for Supporting Gen Z\\'s Political Participation:**\\n    *   Empowering Gen Z to participate effectively in politics requires providing them with access to education, resources, and mentorship.\\n    *   Policies that promote youth participation and representation in government are essential, such as lowering the voting age, reserving seats for young people in parliament, and providing funding for youth-led initiatives.\\n*   **Concluding Remarks:**\\n    *   Gen Z\\'s role in shaping the future of Nepali democracy is undeniable. Their passion, digital fluency, and commitment to social justice make them a force to be reckoned with.\\n    *   It is incumbent upon all stakeholders – government, civil society, and the private sector – to support their political engagement and create a more inclusive, responsive, and democratic political system in Nepal. Gen Z is not just the future; they are the present, actively shaping the political landscape of Nepal.\\n\\n**VII. References**\\n\\n*   **(Note: The following are examples and need to be replaced with actual sources used)**\\n    *   Khatri, B. (2023). *Youth Participation in Nepali Politics: Challenges and Opportunities*. Kathmandu: Nepal Institute for Policy Studies.\\n    *   \"Nepal Election Watch Report.\" (2022). *Analysis of Voter Turnout in the 2022 General Election*. [Website URL]\\n    *   BBC News Nepali. (2023). *Gen Z Activists Lead Climate Change Protests in Kathmandu*. [Website URL]\\n    *   Social Media Trends in Nepal 2023. (2023). *Report on Social Media Usage by Gen Z in Nepal*. [Organization Name and URL]\\n    *   APA style citation for any other sources used.'}\n"
     ]
    }
   ],
   "source": [
    "intial_state = {'title': 'Rise of gen  in poltics in nepal'}\n",
    "\n",
    "final_state = workflow.invoke(intial_state)\n",
    "\n",
    "print(final_state)"
   ]
  },
  {
   "cell_type": "code",
   "execution_count": null,
   "id": "651f3f5b",
   "metadata": {},
   "outputs": [],
   "source": [
    "final_state['outline']"
   ]
  },
  {
   "cell_type": "code",
   "execution_count": 20,
   "id": "0f93a4f6",
   "metadata": {},
   "outputs": [
    {
     "name": "stdout",
     "output_type": "stream",
     "text": [
      "## Rise of Gen Z in Politics in Nepal: A Digital Revolution\n",
      "\n",
      "**I. Introduction**\n",
      "\n",
      "*   **Hook:** In the 2022 Nepali general election, a palpable energy surged through polling booths. Not just the usual seasoned voters, but a wave of young faces, many casting their vote for the very first time. Voter turnout among 18-25 year olds saw a significant jump, exceeding previous elections by a noticeable margin, signaling a shift in Nepal's political landscape.\n",
      "*   **Context:** Gen Z, born between roughly 1997 and 2012, are digital natives. They’ve grown up immersed in technology, connected globally, and acutely aware of the world's challenges. In Nepal, this generation is coming of age in a period of political transition and socioeconomic uncertainty.\n",
      "*   **Thesis Statement:** Gen Z's increasing involvement in Nepali politics is reshaping the political landscape, driven by profound dissatisfaction with traditional political systems, unprecedented access to information and global perspectives through technology, and a fervent desire for a more just and sustainable future. This surge in engagement presents both unprecedented opportunities and significant challenges for the evolution of Nepali democracy.\n",
      "*   **Roadmap:** This blog will delve into the characteristics of Gen Z in Nepal, explore the factors driving their political engagement, examine the forms this engagement takes, analyze its potential impact and the challenges it faces, and ultimately, consider the future role of Gen Z in Nepali politics.\n",
      "\n",
      "**II. Understanding Gen Z in Nepal**\n",
      "\n",
      "*   **Demographics and Socioeconomic Background:**\n",
      "    *   Gen Z constitutes a significant portion of Nepal's population, representing a substantial voting bloc and a potential force for change. Precise figures fluctuate, but estimates place them at around 25-30% of the total population.\n",
      "    *   Compared to previous generations, Gen Z in Nepal enjoys greater access to education, although disparities persist, especially in rural areas.  Mobile technology and internet penetration are also significantly higher, even in remote regions, bridging the information gap.\n",
      "    *   Socioeconomic factors profoundly influence their political views. While some come from privileged backgrounds, many face challenges related to unemployment, limited opportunities, and social inequality. This disparity shapes their political priorities and engagement.\n",
      "*   **Values and Beliefs:**\n",
      "    *   Key values defining Gen Z in Nepal include a strong emphasis on social justice, environmental awareness, inclusivity, transparency, and accountability. They are deeply concerned about issues like climate change, gender equality, and corruption.\n",
      "    *   Their values often clash with those of older generations in positions of power, who are often perceived as resistant to change and entrenched in traditional, often corrupt, practices. Gen Z prioritizes ethical leadership, sustainable development, and inclusive governance – values not always reflected in current political structures.\n",
      "*   **Communication and Information Consumption:**\n",
      "    *   Social media platforms like Facebook, Twitter, Instagram, TikTok, and YouTube are central to Gen Z's lives. These platforms are not just for entertainment; they are primary sources of news, information, and political discourse.\n",
      "    *   They rely heavily on digital news sources, often favoring alternative media outlets and citizen journalism over traditional media, which they often view as biased or controlled by vested interests. They are adept at critically analyzing information, identifying misinformation, and fact-checking claims, although they are also susceptible to echo chambers and online manipulation.\n",
      "\n",
      "**III. Factors Driving Gen Z's Political Engagement**\n",
      "\n",
      "*   **Disillusionment with Traditional Politics:**\n",
      "    *   Widespread corruption, ineffective governance, and a lack of opportunities are major sources of disillusionment for Gen Z. They witness firsthand the consequences of political instability, poor infrastructure, and limited economic prospects.\n",
      "    *   They perceive traditional political parties as outdated, unresponsive to their needs, and primarily focused on maintaining power rather than serving the public. This fuels their desire for alternative political approaches and leaders.\n",
      "*   **Access to Information and Technology:**\n",
      "    *   The internet and social media have empowered Gen Z to access diverse perspectives, organize movements, and voice their opinions without relying on traditional gatekeepers. They can bypass state-controlled media and connect directly with like-minded individuals around the world.\n",
      "    *   Citizen journalism, enabled by smartphones and social media, allows them to document and share real-time information about events, hold authorities accountable, and amplify marginalized voices.\n",
      "*   **Influence of Global Movements:**\n",
      "    *   Global movements like climate change activism (Greta Thunberg's impact), Black Lives Matter, and #MeToo have resonated deeply with Gen Z in Nepal. They see these movements as examples of how collective action can bring about meaningful change.\n",
      "    *   These movements inspire them to take action on local issues, applying similar strategies and tactics to address challenges like environmental degradation, social inequality, and gender-based violence in Nepal.\n",
      "*   **Economic and Social Challenges:**\n",
      "    *   High unemployment rates, lack of access to quality education, and pervasive social inequality are major motivators for Gen Z's political engagement. They recognize that these issues are systemic and require political solutions.\n",
      "    *   They aspire to a more equitable and prosperous future, where everyone has access to opportunities and can live with dignity. This fuels their desire to challenge the status quo and advocate for policies that promote social and economic justice.\n",
      "\n",
      "**IV. Forms of Gen Z Political Engagement in Nepal**\n",
      "\n",
      "*   **Online Activism and Social Media Campaigns:**\n",
      "    *   Successful online campaigns led by Gen Z in Nepal include those focused on environmental protection (e.g., campaigns against deforestation and pollution), social justice (e.g., campaigns against caste discrimination and gender inequality), and political reform (e.g., campaigns for transparency and accountability in government).\n",
      "    *   They effectively use hashtags, memes, and viral content to raise awareness, mobilize support, and pressure decision-makers. For example, during periods of political instability, hashtags calling for good governance and accountability often trend nationally.\n",
      "*   **Participation in Protests and Demonstrations:**\n",
      "    *   Gen Z has been actively involved in recent protests and demonstrations against corruption, government policies (e.g., unpopular tax increases), and social injustices (e.g., protests against violence against women).\n",
      "    *   They often play a key role in organizing and mobilizing participants, leveraging social media to spread information, coordinate logistics, and amplify the voices of protesters.\n",
      "*   **Emergence of Youth-Led Political Organizations and Initiatives:**\n",
      "    *   Several youth-led political groups and organizations have emerged in Nepal, advocating for change and challenging the status quo. These groups often focus on issues like environmental sustainability, social justice, and good governance.\n",
      "    *   Their platforms typically emphasize participatory democracy, transparency, and accountability. They often use social media and grassroots organizing to engage with the public and advocate for their policy priorities.\n",
      "*   **Increasing Voter Turnout and Political Awareness:**\n",
      "    *   Data from recent elections shows a noticeable increase in Gen Z voter turnout, indicating a growing interest in participating in the electoral process.\n",
      "    *   Various initiatives are underway to increase political awareness and encourage youth participation, including voter registration drives, political education programs, and online campaigns promoting civic engagement.\n",
      "\n",
      "**V. Impact and Challenges of Gen Z's Political Involvement**\n",
      "\n",
      "*   **Potential for Political Reform and Innovation:**\n",
      "    *   Gen Z has the potential to bring fresh perspectives, innovative solutions, and greater accountability to Nepali politics. They are more likely to challenge traditional power structures and promote progressive policies.\n",
      "    *   Their digital fluency and global awareness can help them develop more effective and transparent governance systems.\n",
      "*   **Challenges and Obstacles:**\n",
      "    *   Gen Z faces challenges such as limited access to resources, lack of political experience, and resistance from established political actors who may feel threatened by their growing influence.\n",
      "    *   There is also a risk of co-option by traditional parties, where Gen Z members are used for their appeal but not given genuine power or influence. Sustained engagement and critical thinking are crucial to avoid this.\n",
      "*   **Impact on Political Discourse and Policy Debates:**\n",
      "    *   Gen Z's involvement is already shaping political discourse and influencing policy debates on key issues. They are bringing marginalized voices and perspectives to the forefront, challenging traditional narratives, and demanding greater accountability from elected officials.\n",
      "    *   For example, their advocacy for environmental protection has led to increased scrutiny of development projects and a greater emphasis on sustainable practices.\n",
      "\n",
      "**VI. The Future of Gen Z in Nepali Politics**\n",
      "\n",
      "*   **Potential for Long-Term Impact:**\n",
      "    *   Gen Z has the potential to become a powerful force for political change in Nepal in the long term. As they gain experience and build networks, they can play a leading role in shaping the future of Nepali democracy.\n",
      "    *   Nurturing their political engagement and providing them with opportunities to lead is crucial for realizing this potential.\n",
      "*   **Recommendations for Supporting Gen Z's Political Participation:**\n",
      "    *   Empowering Gen Z to participate effectively in politics requires providing them with access to education, resources, and mentorship.\n",
      "    *   Policies that promote youth participation and representation in government are essential, such as lowering the voting age, reserving seats for young people in parliament, and providing funding for youth-led initiatives.\n",
      "*   **Concluding Remarks:**\n",
      "    *   Gen Z's role in shaping the future of Nepali democracy is undeniable. Their passion, digital fluency, and commitment to social justice make them a force to be reckoned with.\n",
      "    *   It is incumbent upon all stakeholders – government, civil society, and the private sector – to support their political engagement and create a more inclusive, responsive, and democratic political system in Nepal. Gen Z is not just the future; they are the present, actively shaping the political landscape of Nepal.\n",
      "\n",
      "**VII. References**\n",
      "\n",
      "*   **(Note: The following are examples and need to be replaced with actual sources used)**\n",
      "    *   Khatri, B. (2023). *Youth Participation in Nepali Politics: Challenges and Opportunities*. Kathmandu: Nepal Institute for Policy Studies.\n",
      "    *   \"Nepal Election Watch Report.\" (2022). *Analysis of Voter Turnout in the 2022 General Election*. [Website URL]\n",
      "    *   BBC News Nepali. (2023). *Gen Z Activists Lead Climate Change Protests in Kathmandu*. [Website URL]\n",
      "    *   Social Media Trends in Nepal 2023. (2023). *Report on Social Media Usage by Gen Z in Nepal*. [Organization Name and URL]\n",
      "    *   APA style citation for any other sources used.\n"
     ]
    }
   ],
   "source": [
    "print(final_state['content'])\n"
   ]
  }
 ],
 "metadata": {
  "kernelspec": {
   "display_name": "env",
   "language": "python",
   "name": "python3"
  },
  "language_info": {
   "codemirror_mode": {
    "name": "ipython",
    "version": 3
   },
   "file_extension": ".py",
   "mimetype": "text/x-python",
   "name": "python",
   "nbconvert_exporter": "python",
   "pygments_lexer": "ipython3",
   "version": "3.13.0"
  }
 },
 "nbformat": 4,
 "nbformat_minor": 5
}
