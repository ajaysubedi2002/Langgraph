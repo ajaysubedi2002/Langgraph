{
 "cells": [
  {
   "cell_type": "code",
   "execution_count": 70,
   "id": "34949c83",
   "metadata": {},
   "outputs": [
    {
     "data": {
      "text/plain": [
       "True"
      ]
     },
     "execution_count": 70,
     "metadata": {},
     "output_type": "execute_result"
    }
   ],
   "source": [
    "from langchain_google_genai import ChatGoogleGenerativeAI\n",
    "from langgraph.graph import StateGraph,START, END\n",
    "from langchain_core.messages import SystemMessage, HumanMessage\n",
    "from typing import TypedDict, Literal, Annotated\n",
    "from pydantic import BaseModel, Field\n",
    "from langgraph.checkpoint.memory import InMemorySaver\n",
    "import operator\n",
    "from dotenv import load_dotenv\n",
    "load_dotenv()\n"
   ]
  },
  {
   "cell_type": "code",
   "execution_count": 71,
   "id": "f72977ee",
   "metadata": {},
   "outputs": [],
   "source": [
    "llm = ChatGoogleGenerativeAI(model='models/gemini-2.5-flash-lite')\n"
   ]
  },
  {
   "cell_type": "code",
   "execution_count": 72,
   "id": "6d99186e",
   "metadata": {},
   "outputs": [],
   "source": [
    "class joke(TypedDict):\n",
    "    topic: str\n",
    "    joke: str\n",
    "    explanations:str"
   ]
  },
  {
   "cell_type": "code",
   "execution_count": 73,
   "id": "03fab1d2",
   "metadata": {},
   "outputs": [],
   "source": [
    "def generate_joke(state: joke):\n",
    "    prompt = f\"generate the joke on the {state[\"topic\"]}\"\n",
    "    response = llm.invoke(prompt).content\n",
    "    return{\"joke\": response  }"
   ]
  },
  {
   "cell_type": "code",
   "execution_count": 74,
   "id": "86c10892",
   "metadata": {},
   "outputs": [],
   "source": [
    "def Explainations_joke(state: joke):\n",
    "    prompt = f\"Explain  the joke on the {state[\"joke\"]}\"\n",
    "    response = llm.invoke(prompt).content\n",
    "    return{\"explanations\": response  }"
   ]
  },
  {
   "cell_type": "code",
   "execution_count": 82,
   "id": "5d6856e5",
   "metadata": {},
   "outputs": [],
   "source": [
    "graph = StateGraph(joke)\n",
    "graph.add_node(\"generate_joke\", generate_joke)\n",
    "graph.add_node(\"Explainations_joke\",Explainations_joke)\n",
    "\n",
    "graph.add_edge(START, \"generate_joke\")\n",
    "graph.add_edge(\"generate_joke\", \"Explainations_joke\")\n",
    "graph.add_edge(\"Explainations_joke\",END)\n",
    "\n",
    "checkpointer = InMemorySaver()\n",
    "\n",
    "workflow = graph.compile(checkpointer = checkpointer)\n",
    "\n",
    "\n"
   ]
  },
  {
   "cell_type": "code",
   "execution_count": 83,
   "id": "12821e83",
   "metadata": {},
   "outputs": [],
   "source": [
    "config = {\"configurable\":{\"thread_id\": 1}}\n",
    "initial_state = {\n",
    "    \"topic\": \"genz \",\n",
    "    }\n",
    "result = workflow.invoke(initial_state,config=config)"
   ]
  },
  {
   "cell_type": "code",
   "execution_count": 85,
   "id": "6860adc5",
   "metadata": {},
   "outputs": [
    {
     "data": {
      "text/plain": [
       "{'topic': 'genz ',\n",
       " 'joke': 'Here are a few Gen Z jokes, playing on different stereotypes:\\n\\n**Joke 1 (Playing on slang and \"vibe\"):**\\n\\n> Why did the Gen Z student bring a ladder to class?\\n>\\n> Because they heard the lecture was going to be **vibey**, and they wanted to reach new heights of understanding... or at least get a better angle for their TikTok.\\n\\n**Joke 2 (Playing on social media and trends):**\\n\\n> What\\'s a Gen Z\\'s favorite type of math?\\n>\\n> **Algorhythm** – because it\\'s all about the flow, the trends, and making sure everything looks good on the FYP.\\n\\n**Joke 3 (Playing on the \"adulting\" struggle):**\\n\\n> My Gen Z nephew asked me for financial advice.\\n>\\n> I told him, \"Start by saving 10% of your income.\"\\n>\\n> He said, \"Is that like, a new crypto coin I haven\\'t heard of yet?\"\\n\\n**Joke 4 (Short and punchy):**\\n\\n> How does a Gen Z apologize?\\n>\\n> \"My bad, I was just trying to manifest a different outcome.\"\\n\\n**Joke 5 (A bit more meta):**\\n\\n> Why don\\'t Gen Z tell secrets?\\n>\\n> Because they\\'re worried someone will screenshot it and turn it into a meme before they even finish the sentence.\\n\\n**Remember:** These are meant to be lighthearted and poke fun at common perceptions. The best jokes are often relatable!',\n",
       " 'explanations': 'Let\\'s break down the humor in each of these Gen Z jokes:\\n\\n**Joke 1 (Playing on slang and \"vibe\"):**\\n\\n*   **Stereotype:** Gen Z uses a lot of slang, particularly words like \"vibe\" and \"vibey,\" often to describe a general feeling or atmosphere. There\\'s also a perception that they are highly engaged with social media platforms like TikTok.\\n*   **The Setup:** The question sets up a seemingly illogical scenario: bringing a ladder to class.\\n*   **The Punchline:**\\n    *   \"Because they heard the lecture was going to be **vibey**...\" This uses the slang term \"vibey\" in a way that\\'s a bit of a stretch for a lecture. It plays on the idea that Gen Z might interpret even academic settings through the lens of their social language.\\n    *   \"...and they wanted to reach new heights of understanding...\" This is a classic pun. \"Reaching new heights\" is an idiom for achieving greater understanding, but here it\\'s given a literal interpretation because of the ladder.\\n    *   \"...or at least get a better angle for their TikTok.\" This is the second layer of the joke, directly referencing the stereotype of Gen Z being obsessed with social media and creating content. The ladder isn\\'t just for learning; it\\'s for capturing content.\\n*   **Why it\\'s funny:** The humor comes from the juxtaposition of a serious academic setting with Gen Z\\'s casual slang and social media habits, and the literal interpretation of a figurative phrase.\\n\\n**Joke 2 (Playing on social media and trends):**\\n\\n*   **Stereotype:** Gen Z is deeply immersed in social media, particularly platforms like TikTok, where algorithms (like the \"For You Page\" or FYP) curate content. They are also seen as being very aware of trends and \"flow.\"\\n*   **The Setup:** The question asks about a favorite type of math.\\n*   **The Punchline:** \"**Algorhythm** – because it\\'s all about the flow, the trends, and making sure everything looks good on the FYP.\"\\n    *   \"Algorhythm\" is a portmanteau (a blend of words) of \"algorithm\" and \"rhythm.\"\\n    *   The joke connects the mathematical concept of algorithms (which are fundamental to social media feeds) to the idea of \"rhythm\" and \"flow,\" which are important in music, dance, and trending content on platforms like TikTok.\\n    *   \"Making sure everything looks good on the FYP\" directly references the TikTok algorithm and the desire for content to perform well.\\n*   **Why it\\'s funny:** It\\'s a clever wordplay that links a technical term (algorithm) to concepts that Gen Z is perceived to value (flow, trends, social media success).\\n\\n**Joke 3 (Playing on the \"adulting\" struggle):**\\n\\n*   **Stereotype:** Gen Z is often portrayed as struggling with traditional \"adulting\" tasks, such as managing finances, and they are also seen as being very interested in emerging technologies like cryptocurrency.\\n*   **The Setup:** An older person gives Gen Z nephew financial advice – save 10% of income.\\n*   **The Punchline:** He said, \"Is that like, a new crypto coin I haven\\'t heard of yet?\"\\n    *   The nephew completely misses the traditional financial advice.\\n    *   He immediately relates the percentage to cryptocurrency, showing a lack of familiarity with basic financial planning and a strong inclination towards digital assets.\\n*   **Why it\\'s funny:** It highlights a perceived generational gap in financial literacy and the assumption that Gen Z might be more familiar with speculative digital currencies than fundamental saving principles.\\n\\n**Joke 4 (Short and punchy):**\\n\\n*   **Stereotype:** Gen Z is perceived to use spiritual or self-help concepts like \"manifestation\" to explain away their actions or shortcomings.\\n*   **The Setup:** How does a Gen Z apologize?\\n*   **The Punchline:** \"My bad, I was just trying to manifest a different outcome.\"\\n    *   \"My bad\" is a casual, common phrase for apology.\\n    *   \"Manifesting a different outcome\" is a phrase from the Law of Attraction or New Age spirituality, suggesting that by thinking positively, one can bring about desired results.\\n    *   Here, it\\'s used as a way to deflect responsibility for a mistake. Instead of admitting fault, they attribute the negative outcome to a failed attempt at manifestation.\\n*   **Why it\\'s funny:** It pokes fun at the perceived overuse of spiritual jargon to avoid taking direct responsibility for mistakes.\\n\\n**Joke 5 (A bit more meta):**\\n\\n*   **Stereotype:** Gen Z is constantly online, and their communications are easily shared, screenshotted, and turned into viral content or memes. They are also very aware of this phenomenon.\\n*   **The Setup:** Why don\\'t Gen Z tell secrets?\\n*   **The Punchline:** Because they\\'re worried someone will screenshot it and turn it into a meme before they even finish the sentence.\\n    *   This joke is self-aware. It points out the very real phenomenon of online content creation and the speed at which information (and gossip) can spread and be repurposed.\\n    *   The humor comes from the exaggeration of this fear – the idea that a secret would be instantly meme-ified *while* it\\'s being told.\\n*   **Why it\\'s funny:** It\\'s a relatable observation about the digital age and the anxieties surrounding privacy and the viral nature of online content, framed in a Gen Z context.\\n\\nIn essence, these jokes work by taking common perceptions and stereotypes associated with Gen Z and exaggerating them for comedic effect, often through wordplay, relatable scenarios, and a touch of self-awareness.'}"
      ]
     },
     "execution_count": 85,
     "metadata": {},
     "output_type": "execute_result"
    }
   ],
   "source": [
    "result"
   ]
  },
  {
   "cell_type": "code",
   "execution_count": 84,
   "id": "d24c15f0",
   "metadata": {},
   "outputs": [
    {
     "data": {
      "text/plain": [
       "'Here are a few Gen Z jokes, playing on different stereotypes:\\n\\n**Joke 1 (Playing on slang and \"vibe\"):**\\n\\n> Why did the Gen Z student bring a ladder to class?\\n>\\n> Because they heard the lecture was going to be **vibey**, and they wanted to reach new heights of understanding... or at least get a better angle for their TikTok.\\n\\n**Joke 2 (Playing on social media and trends):**\\n\\n> What\\'s a Gen Z\\'s favorite type of math?\\n>\\n> **Algorhythm** – because it\\'s all about the flow, the trends, and making sure everything looks good on the FYP.\\n\\n**Joke 3 (Playing on the \"adulting\" struggle):**\\n\\n> My Gen Z nephew asked me for financial advice.\\n>\\n> I told him, \"Start by saving 10% of your income.\"\\n>\\n> He said, \"Is that like, a new crypto coin I haven\\'t heard of yet?\"\\n\\n**Joke 4 (Short and punchy):**\\n\\n> How does a Gen Z apologize?\\n>\\n> \"My bad, I was just trying to manifest a different outcome.\"\\n\\n**Joke 5 (A bit more meta):**\\n\\n> Why don\\'t Gen Z tell secrets?\\n>\\n> Because they\\'re worried someone will screenshot it and turn it into a meme before they even finish the sentence.\\n\\n**Remember:** These are meant to be lighthearted and poke fun at common perceptions. The best jokes are often relatable!'"
      ]
     },
     "execution_count": 84,
     "metadata": {},
     "output_type": "execute_result"
    }
   ],
   "source": [
    "result[\"joke\"]"
   ]
  },
  {
   "cell_type": "code",
   "execution_count": 87,
   "id": "22c5a243",
   "metadata": {},
   "outputs": [
    {
     "data": {
      "text/plain": [
       "StateSnapshot(values={'topic': 'genz ', 'joke': 'Here are a few Gen Z jokes, playing on different stereotypes:\\n\\n**Joke 1 (Playing on slang and \"vibe\"):**\\n\\n> Why did the Gen Z student bring a ladder to class?\\n>\\n> Because they heard the lecture was going to be **vibey**, and they wanted to reach new heights of understanding... or at least get a better angle for their TikTok.\\n\\n**Joke 2 (Playing on social media and trends):**\\n\\n> What\\'s a Gen Z\\'s favorite type of math?\\n>\\n> **Algorhythm** – because it\\'s all about the flow, the trends, and making sure everything looks good on the FYP.\\n\\n**Joke 3 (Playing on the \"adulting\" struggle):**\\n\\n> My Gen Z nephew asked me for financial advice.\\n>\\n> I told him, \"Start by saving 10% of your income.\"\\n>\\n> He said, \"Is that like, a new crypto coin I haven\\'t heard of yet?\"\\n\\n**Joke 4 (Short and punchy):**\\n\\n> How does a Gen Z apologize?\\n>\\n> \"My bad, I was just trying to manifest a different outcome.\"\\n\\n**Joke 5 (A bit more meta):**\\n\\n> Why don\\'t Gen Z tell secrets?\\n>\\n> Because they\\'re worried someone will screenshot it and turn it into a meme before they even finish the sentence.\\n\\n**Remember:** These are meant to be lighthearted and poke fun at common perceptions. The best jokes are often relatable!', 'explanations': 'Let\\'s break down the humor in each of these Gen Z jokes:\\n\\n**Joke 1 (Playing on slang and \"vibe\"):**\\n\\n*   **Stereotype:** Gen Z uses a lot of slang, particularly words like \"vibe\" and \"vibey,\" often to describe a general feeling or atmosphere. There\\'s also a perception that they are highly engaged with social media platforms like TikTok.\\n*   **The Setup:** The question sets up a seemingly illogical scenario: bringing a ladder to class.\\n*   **The Punchline:**\\n    *   \"Because they heard the lecture was going to be **vibey**...\" This uses the slang term \"vibey\" in a way that\\'s a bit of a stretch for a lecture. It plays on the idea that Gen Z might interpret even academic settings through the lens of their social language.\\n    *   \"...and they wanted to reach new heights of understanding...\" This is a classic pun. \"Reaching new heights\" is an idiom for achieving greater understanding, but here it\\'s given a literal interpretation because of the ladder.\\n    *   \"...or at least get a better angle for their TikTok.\" This is the second layer of the joke, directly referencing the stereotype of Gen Z being obsessed with social media and creating content. The ladder isn\\'t just for learning; it\\'s for capturing content.\\n*   **Why it\\'s funny:** The humor comes from the juxtaposition of a serious academic setting with Gen Z\\'s casual slang and social media habits, and the literal interpretation of a figurative phrase.\\n\\n**Joke 2 (Playing on social media and trends):**\\n\\n*   **Stereotype:** Gen Z is deeply immersed in social media, particularly platforms like TikTok, where algorithms (like the \"For You Page\" or FYP) curate content. They are also seen as being very aware of trends and \"flow.\"\\n*   **The Setup:** The question asks about a favorite type of math.\\n*   **The Punchline:** \"**Algorhythm** – because it\\'s all about the flow, the trends, and making sure everything looks good on the FYP.\"\\n    *   \"Algorhythm\" is a portmanteau (a blend of words) of \"algorithm\" and \"rhythm.\"\\n    *   The joke connects the mathematical concept of algorithms (which are fundamental to social media feeds) to the idea of \"rhythm\" and \"flow,\" which are important in music, dance, and trending content on platforms like TikTok.\\n    *   \"Making sure everything looks good on the FYP\" directly references the TikTok algorithm and the desire for content to perform well.\\n*   **Why it\\'s funny:** It\\'s a clever wordplay that links a technical term (algorithm) to concepts that Gen Z is perceived to value (flow, trends, social media success).\\n\\n**Joke 3 (Playing on the \"adulting\" struggle):**\\n\\n*   **Stereotype:** Gen Z is often portrayed as struggling with traditional \"adulting\" tasks, such as managing finances, and they are also seen as being very interested in emerging technologies like cryptocurrency.\\n*   **The Setup:** An older person gives Gen Z nephew financial advice – save 10% of income.\\n*   **The Punchline:** He said, \"Is that like, a new crypto coin I haven\\'t heard of yet?\"\\n    *   The nephew completely misses the traditional financial advice.\\n    *   He immediately relates the percentage to cryptocurrency, showing a lack of familiarity with basic financial planning and a strong inclination towards digital assets.\\n*   **Why it\\'s funny:** It highlights a perceived generational gap in financial literacy and the assumption that Gen Z might be more familiar with speculative digital currencies than fundamental saving principles.\\n\\n**Joke 4 (Short and punchy):**\\n\\n*   **Stereotype:** Gen Z is perceived to use spiritual or self-help concepts like \"manifestation\" to explain away their actions or shortcomings.\\n*   **The Setup:** How does a Gen Z apologize?\\n*   **The Punchline:** \"My bad, I was just trying to manifest a different outcome.\"\\n    *   \"My bad\" is a casual, common phrase for apology.\\n    *   \"Manifesting a different outcome\" is a phrase from the Law of Attraction or New Age spirituality, suggesting that by thinking positively, one can bring about desired results.\\n    *   Here, it\\'s used as a way to deflect responsibility for a mistake. Instead of admitting fault, they attribute the negative outcome to a failed attempt at manifestation.\\n*   **Why it\\'s funny:** It pokes fun at the perceived overuse of spiritual jargon to avoid taking direct responsibility for mistakes.\\n\\n**Joke 5 (A bit more meta):**\\n\\n*   **Stereotype:** Gen Z is constantly online, and their communications are easily shared, screenshotted, and turned into viral content or memes. They are also very aware of this phenomenon.\\n*   **The Setup:** Why don\\'t Gen Z tell secrets?\\n*   **The Punchline:** Because they\\'re worried someone will screenshot it and turn it into a meme before they even finish the sentence.\\n    *   This joke is self-aware. It points out the very real phenomenon of online content creation and the speed at which information (and gossip) can spread and be repurposed.\\n    *   The humor comes from the exaggeration of this fear – the idea that a secret would be instantly meme-ified *while* it\\'s being told.\\n*   **Why it\\'s funny:** It\\'s a relatable observation about the digital age and the anxieties surrounding privacy and the viral nature of online content, framed in a Gen Z context.\\n\\nIn essence, these jokes work by taking common perceptions and stereotypes associated with Gen Z and exaggerating them for comedic effect, often through wordplay, relatable scenarios, and a touch of self-awareness.'}, next=(), config={'configurable': {'thread_id': '1', 'checkpoint_ns': '', 'checkpoint_id': '1f099585-73f1-645f-8002-654dbd613bb0'}}, metadata={'source': 'loop', 'step': 2, 'parents': {}}, created_at='2025-09-24T15:08:34.840868+00:00', parent_config={'configurable': {'thread_id': '1', 'checkpoint_ns': '', 'checkpoint_id': '1f099585-48d6-65a3-8001-d91969074aad'}}, tasks=(), interrupts=())"
      ]
     },
     "execution_count": 87,
     "metadata": {},
     "output_type": "execute_result"
    }
   ],
   "source": [
    "workflow.get_state(config)"
   ]
  },
  {
   "cell_type": "code",
   "execution_count": 88,
   "id": "b513dc54",
   "metadata": {},
   "outputs": [
    {
     "data": {
      "text/plain": [
       "[StateSnapshot(values={'topic': 'genz ', 'joke': 'Here are a few Gen Z jokes, playing on different stereotypes:\\n\\n**Joke 1 (Playing on slang and \"vibe\"):**\\n\\n> Why did the Gen Z student bring a ladder to class?\\n>\\n> Because they heard the lecture was going to be **vibey**, and they wanted to reach new heights of understanding... or at least get a better angle for their TikTok.\\n\\n**Joke 2 (Playing on social media and trends):**\\n\\n> What\\'s a Gen Z\\'s favorite type of math?\\n>\\n> **Algorhythm** – because it\\'s all about the flow, the trends, and making sure everything looks good on the FYP.\\n\\n**Joke 3 (Playing on the \"adulting\" struggle):**\\n\\n> My Gen Z nephew asked me for financial advice.\\n>\\n> I told him, \"Start by saving 10% of your income.\"\\n>\\n> He said, \"Is that like, a new crypto coin I haven\\'t heard of yet?\"\\n\\n**Joke 4 (Short and punchy):**\\n\\n> How does a Gen Z apologize?\\n>\\n> \"My bad, I was just trying to manifest a different outcome.\"\\n\\n**Joke 5 (A bit more meta):**\\n\\n> Why don\\'t Gen Z tell secrets?\\n>\\n> Because they\\'re worried someone will screenshot it and turn it into a meme before they even finish the sentence.\\n\\n**Remember:** These are meant to be lighthearted and poke fun at common perceptions. The best jokes are often relatable!', 'explanations': 'Let\\'s break down the humor in each of these Gen Z jokes:\\n\\n**Joke 1 (Playing on slang and \"vibe\"):**\\n\\n*   **Stereotype:** Gen Z uses a lot of slang, particularly words like \"vibe\" and \"vibey,\" often to describe a general feeling or atmosphere. There\\'s also a perception that they are highly engaged with social media platforms like TikTok.\\n*   **The Setup:** The question sets up a seemingly illogical scenario: bringing a ladder to class.\\n*   **The Punchline:**\\n    *   \"Because they heard the lecture was going to be **vibey**...\" This uses the slang term \"vibey\" in a way that\\'s a bit of a stretch for a lecture. It plays on the idea that Gen Z might interpret even academic settings through the lens of their social language.\\n    *   \"...and they wanted to reach new heights of understanding...\" This is a classic pun. \"Reaching new heights\" is an idiom for achieving greater understanding, but here it\\'s given a literal interpretation because of the ladder.\\n    *   \"...or at least get a better angle for their TikTok.\" This is the second layer of the joke, directly referencing the stereotype of Gen Z being obsessed with social media and creating content. The ladder isn\\'t just for learning; it\\'s for capturing content.\\n*   **Why it\\'s funny:** The humor comes from the juxtaposition of a serious academic setting with Gen Z\\'s casual slang and social media habits, and the literal interpretation of a figurative phrase.\\n\\n**Joke 2 (Playing on social media and trends):**\\n\\n*   **Stereotype:** Gen Z is deeply immersed in social media, particularly platforms like TikTok, where algorithms (like the \"For You Page\" or FYP) curate content. They are also seen as being very aware of trends and \"flow.\"\\n*   **The Setup:** The question asks about a favorite type of math.\\n*   **The Punchline:** \"**Algorhythm** – because it\\'s all about the flow, the trends, and making sure everything looks good on the FYP.\"\\n    *   \"Algorhythm\" is a portmanteau (a blend of words) of \"algorithm\" and \"rhythm.\"\\n    *   The joke connects the mathematical concept of algorithms (which are fundamental to social media feeds) to the idea of \"rhythm\" and \"flow,\" which are important in music, dance, and trending content on platforms like TikTok.\\n    *   \"Making sure everything looks good on the FYP\" directly references the TikTok algorithm and the desire for content to perform well.\\n*   **Why it\\'s funny:** It\\'s a clever wordplay that links a technical term (algorithm) to concepts that Gen Z is perceived to value (flow, trends, social media success).\\n\\n**Joke 3 (Playing on the \"adulting\" struggle):**\\n\\n*   **Stereotype:** Gen Z is often portrayed as struggling with traditional \"adulting\" tasks, such as managing finances, and they are also seen as being very interested in emerging technologies like cryptocurrency.\\n*   **The Setup:** An older person gives Gen Z nephew financial advice – save 10% of income.\\n*   **The Punchline:** He said, \"Is that like, a new crypto coin I haven\\'t heard of yet?\"\\n    *   The nephew completely misses the traditional financial advice.\\n    *   He immediately relates the percentage to cryptocurrency, showing a lack of familiarity with basic financial planning and a strong inclination towards digital assets.\\n*   **Why it\\'s funny:** It highlights a perceived generational gap in financial literacy and the assumption that Gen Z might be more familiar with speculative digital currencies than fundamental saving principles.\\n\\n**Joke 4 (Short and punchy):**\\n\\n*   **Stereotype:** Gen Z is perceived to use spiritual or self-help concepts like \"manifestation\" to explain away their actions or shortcomings.\\n*   **The Setup:** How does a Gen Z apologize?\\n*   **The Punchline:** \"My bad, I was just trying to manifest a different outcome.\"\\n    *   \"My bad\" is a casual, common phrase for apology.\\n    *   \"Manifesting a different outcome\" is a phrase from the Law of Attraction or New Age spirituality, suggesting that by thinking positively, one can bring about desired results.\\n    *   Here, it\\'s used as a way to deflect responsibility for a mistake. Instead of admitting fault, they attribute the negative outcome to a failed attempt at manifestation.\\n*   **Why it\\'s funny:** It pokes fun at the perceived overuse of spiritual jargon to avoid taking direct responsibility for mistakes.\\n\\n**Joke 5 (A bit more meta):**\\n\\n*   **Stereotype:** Gen Z is constantly online, and their communications are easily shared, screenshotted, and turned into viral content or memes. They are also very aware of this phenomenon.\\n*   **The Setup:** Why don\\'t Gen Z tell secrets?\\n*   **The Punchline:** Because they\\'re worried someone will screenshot it and turn it into a meme before they even finish the sentence.\\n    *   This joke is self-aware. It points out the very real phenomenon of online content creation and the speed at which information (and gossip) can spread and be repurposed.\\n    *   The humor comes from the exaggeration of this fear – the idea that a secret would be instantly meme-ified *while* it\\'s being told.\\n*   **Why it\\'s funny:** It\\'s a relatable observation about the digital age and the anxieties surrounding privacy and the viral nature of online content, framed in a Gen Z context.\\n\\nIn essence, these jokes work by taking common perceptions and stereotypes associated with Gen Z and exaggerating them for comedic effect, often through wordplay, relatable scenarios, and a touch of self-awareness.'}, next=(), config={'configurable': {'thread_id': '1', 'checkpoint_ns': '', 'checkpoint_id': '1f099585-73f1-645f-8002-654dbd613bb0'}}, metadata={'source': 'loop', 'step': 2, 'parents': {}}, created_at='2025-09-24T15:08:34.840868+00:00', parent_config={'configurable': {'thread_id': '1', 'checkpoint_ns': '', 'checkpoint_id': '1f099585-48d6-65a3-8001-d91969074aad'}}, tasks=(), interrupts=()),\n",
       " StateSnapshot(values={'topic': 'genz ', 'joke': 'Here are a few Gen Z jokes, playing on different stereotypes:\\n\\n**Joke 1 (Playing on slang and \"vibe\"):**\\n\\n> Why did the Gen Z student bring a ladder to class?\\n>\\n> Because they heard the lecture was going to be **vibey**, and they wanted to reach new heights of understanding... or at least get a better angle for their TikTok.\\n\\n**Joke 2 (Playing on social media and trends):**\\n\\n> What\\'s a Gen Z\\'s favorite type of math?\\n>\\n> **Algorhythm** – because it\\'s all about the flow, the trends, and making sure everything looks good on the FYP.\\n\\n**Joke 3 (Playing on the \"adulting\" struggle):**\\n\\n> My Gen Z nephew asked me for financial advice.\\n>\\n> I told him, \"Start by saving 10% of your income.\"\\n>\\n> He said, \"Is that like, a new crypto coin I haven\\'t heard of yet?\"\\n\\n**Joke 4 (Short and punchy):**\\n\\n> How does a Gen Z apologize?\\n>\\n> \"My bad, I was just trying to manifest a different outcome.\"\\n\\n**Joke 5 (A bit more meta):**\\n\\n> Why don\\'t Gen Z tell secrets?\\n>\\n> Because they\\'re worried someone will screenshot it and turn it into a meme before they even finish the sentence.\\n\\n**Remember:** These are meant to be lighthearted and poke fun at common perceptions. The best jokes are often relatable!'}, next=('Explainations_joke',), config={'configurable': {'thread_id': '1', 'checkpoint_ns': '', 'checkpoint_id': '1f099585-48d6-65a3-8001-d91969074aad'}}, metadata={'source': 'loop', 'step': 1, 'parents': {}}, created_at='2025-09-24T15:08:30.320959+00:00', parent_config={'configurable': {'thread_id': '1', 'checkpoint_ns': '', 'checkpoint_id': '1f099585-2b01-66af-8000-68eaebc05f97'}}, tasks=(PregelTask(id='4925d87b-52f5-892b-5864-cd17d38bdd50', name='Explainations_joke', path=('__pregel_pull', 'Explainations_joke'), error=None, interrupts=(), state=None, result={'explanations': 'Let\\'s break down the humor in each of these Gen Z jokes:\\n\\n**Joke 1 (Playing on slang and \"vibe\"):**\\n\\n*   **Stereotype:** Gen Z uses a lot of slang, particularly words like \"vibe\" and \"vibey,\" often to describe a general feeling or atmosphere. There\\'s also a perception that they are highly engaged with social media platforms like TikTok.\\n*   **The Setup:** The question sets up a seemingly illogical scenario: bringing a ladder to class.\\n*   **The Punchline:**\\n    *   \"Because they heard the lecture was going to be **vibey**...\" This uses the slang term \"vibey\" in a way that\\'s a bit of a stretch for a lecture. It plays on the idea that Gen Z might interpret even academic settings through the lens of their social language.\\n    *   \"...and they wanted to reach new heights of understanding...\" This is a classic pun. \"Reaching new heights\" is an idiom for achieving greater understanding, but here it\\'s given a literal interpretation because of the ladder.\\n    *   \"...or at least get a better angle for their TikTok.\" This is the second layer of the joke, directly referencing the stereotype of Gen Z being obsessed with social media and creating content. The ladder isn\\'t just for learning; it\\'s for capturing content.\\n*   **Why it\\'s funny:** The humor comes from the juxtaposition of a serious academic setting with Gen Z\\'s casual slang and social media habits, and the literal interpretation of a figurative phrase.\\n\\n**Joke 2 (Playing on social media and trends):**\\n\\n*   **Stereotype:** Gen Z is deeply immersed in social media, particularly platforms like TikTok, where algorithms (like the \"For You Page\" or FYP) curate content. They are also seen as being very aware of trends and \"flow.\"\\n*   **The Setup:** The question asks about a favorite type of math.\\n*   **The Punchline:** \"**Algorhythm** – because it\\'s all about the flow, the trends, and making sure everything looks good on the FYP.\"\\n    *   \"Algorhythm\" is a portmanteau (a blend of words) of \"algorithm\" and \"rhythm.\"\\n    *   The joke connects the mathematical concept of algorithms (which are fundamental to social media feeds) to the idea of \"rhythm\" and \"flow,\" which are important in music, dance, and trending content on platforms like TikTok.\\n    *   \"Making sure everything looks good on the FYP\" directly references the TikTok algorithm and the desire for content to perform well.\\n*   **Why it\\'s funny:** It\\'s a clever wordplay that links a technical term (algorithm) to concepts that Gen Z is perceived to value (flow, trends, social media success).\\n\\n**Joke 3 (Playing on the \"adulting\" struggle):**\\n\\n*   **Stereotype:** Gen Z is often portrayed as struggling with traditional \"adulting\" tasks, such as managing finances, and they are also seen as being very interested in emerging technologies like cryptocurrency.\\n*   **The Setup:** An older person gives Gen Z nephew financial advice – save 10% of income.\\n*   **The Punchline:** He said, \"Is that like, a new crypto coin I haven\\'t heard of yet?\"\\n    *   The nephew completely misses the traditional financial advice.\\n    *   He immediately relates the percentage to cryptocurrency, showing a lack of familiarity with basic financial planning and a strong inclination towards digital assets.\\n*   **Why it\\'s funny:** It highlights a perceived generational gap in financial literacy and the assumption that Gen Z might be more familiar with speculative digital currencies than fundamental saving principles.\\n\\n**Joke 4 (Short and punchy):**\\n\\n*   **Stereotype:** Gen Z is perceived to use spiritual or self-help concepts like \"manifestation\" to explain away their actions or shortcomings.\\n*   **The Setup:** How does a Gen Z apologize?\\n*   **The Punchline:** \"My bad, I was just trying to manifest a different outcome.\"\\n    *   \"My bad\" is a casual, common phrase for apology.\\n    *   \"Manifesting a different outcome\" is a phrase from the Law of Attraction or New Age spirituality, suggesting that by thinking positively, one can bring about desired results.\\n    *   Here, it\\'s used as a way to deflect responsibility for a mistake. Instead of admitting fault, they attribute the negative outcome to a failed attempt at manifestation.\\n*   **Why it\\'s funny:** It pokes fun at the perceived overuse of spiritual jargon to avoid taking direct responsibility for mistakes.\\n\\n**Joke 5 (A bit more meta):**\\n\\n*   **Stereotype:** Gen Z is constantly online, and their communications are easily shared, screenshotted, and turned into viral content or memes. They are also very aware of this phenomenon.\\n*   **The Setup:** Why don\\'t Gen Z tell secrets?\\n*   **The Punchline:** Because they\\'re worried someone will screenshot it and turn it into a meme before they even finish the sentence.\\n    *   This joke is self-aware. It points out the very real phenomenon of online content creation and the speed at which information (and gossip) can spread and be repurposed.\\n    *   The humor comes from the exaggeration of this fear – the idea that a secret would be instantly meme-ified *while* it\\'s being told.\\n*   **Why it\\'s funny:** It\\'s a relatable observation about the digital age and the anxieties surrounding privacy and the viral nature of online content, framed in a Gen Z context.\\n\\nIn essence, these jokes work by taking common perceptions and stereotypes associated with Gen Z and exaggerating them for comedic effect, often through wordplay, relatable scenarios, and a touch of self-awareness.'}),), interrupts=()),\n",
       " StateSnapshot(values={'topic': 'genz '}, next=('generate_joke',), config={'configurable': {'thread_id': '1', 'checkpoint_ns': '', 'checkpoint_id': '1f099585-2b01-66af-8000-68eaebc05f97'}}, metadata={'source': 'loop', 'step': 0, 'parents': {}}, created_at='2025-09-24T15:08:27.192869+00:00', parent_config={'configurable': {'thread_id': '1', 'checkpoint_ns': '', 'checkpoint_id': '1f099585-2af3-64c6-bfff-66378cfb5521'}}, tasks=(PregelTask(id='303b6284-efe7-010f-5128-080c0ca07eaa', name='generate_joke', path=('__pregel_pull', 'generate_joke'), error=None, interrupts=(), state=None, result={'joke': 'Here are a few Gen Z jokes, playing on different stereotypes:\\n\\n**Joke 1 (Playing on slang and \"vibe\"):**\\n\\n> Why did the Gen Z student bring a ladder to class?\\n>\\n> Because they heard the lecture was going to be **vibey**, and they wanted to reach new heights of understanding... or at least get a better angle for their TikTok.\\n\\n**Joke 2 (Playing on social media and trends):**\\n\\n> What\\'s a Gen Z\\'s favorite type of math?\\n>\\n> **Algorhythm** – because it\\'s all about the flow, the trends, and making sure everything looks good on the FYP.\\n\\n**Joke 3 (Playing on the \"adulting\" struggle):**\\n\\n> My Gen Z nephew asked me for financial advice.\\n>\\n> I told him, \"Start by saving 10% of your income.\"\\n>\\n> He said, \"Is that like, a new crypto coin I haven\\'t heard of yet?\"\\n\\n**Joke 4 (Short and punchy):**\\n\\n> How does a Gen Z apologize?\\n>\\n> \"My bad, I was just trying to manifest a different outcome.\"\\n\\n**Joke 5 (A bit more meta):**\\n\\n> Why don\\'t Gen Z tell secrets?\\n>\\n> Because they\\'re worried someone will screenshot it and turn it into a meme before they even finish the sentence.\\n\\n**Remember:** These are meant to be lighthearted and poke fun at common perceptions. The best jokes are often relatable!'}),), interrupts=()),\n",
       " StateSnapshot(values={}, next=('__start__',), config={'configurable': {'thread_id': '1', 'checkpoint_ns': '', 'checkpoint_id': '1f099585-2af3-64c6-bfff-66378cfb5521'}}, metadata={'source': 'input', 'step': -1, 'parents': {}}, created_at='2025-09-24T15:08:27.187100+00:00', parent_config=None, tasks=(PregelTask(id='28b31b94-f30e-9039-21ee-81b64d0ed4d6', name='__start__', path=('__pregel_pull', '__start__'), error=None, interrupts=(), state=None, result={'topic': 'genz '}),), interrupts=())]"
      ]
     },
     "execution_count": 88,
     "metadata": {},
     "output_type": "execute_result"
    }
   ],
   "source": [
    "list(workflow.get_state_history(config))"
   ]
  },
  {
   "cell_type": "code",
   "execution_count": null,
   "id": "8b2409ff",
   "metadata": {},
   "outputs": [],
   "source": []
  }
 ],
 "metadata": {
  "kernelspec": {
   "display_name": "env",
   "language": "python",
   "name": "python3"
  },
  "language_info": {
   "codemirror_mode": {
    "name": "ipython",
    "version": 3
   },
   "file_extension": ".py",
   "mimetype": "text/x-python",
   "name": "python",
   "nbconvert_exporter": "python",
   "pygments_lexer": "ipython3",
   "version": "3.13.0"
  }
 },
 "nbformat": 4,
 "nbformat_minor": 5
}
